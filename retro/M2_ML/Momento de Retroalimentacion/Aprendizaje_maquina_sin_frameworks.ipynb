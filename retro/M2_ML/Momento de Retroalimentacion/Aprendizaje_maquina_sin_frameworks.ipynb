{
  "nbformat": 4,
  "nbformat_minor": 0,
  "metadata": {
    "colab": {
      "provenance": []
    },
    "kernelspec": {
      "name": "python3",
      "display_name": "Python 3"
    },
    "language_info": {
      "name": "python"
    }
  },
  "cells": [
    {
      "cell_type": "markdown",
      "source": [
        "# **Implementación de aprendizaje máquina sin frameworks**"
      ],
      "metadata": {
        "id": "FjqR-UtBeWoc"
      }
    },
    {
      "cell_type": "markdown",
      "source": [
        "## **Instrucciones**"
      ],
      "metadata": {
        "id": "NNwRBupvhQJ3"
      }
    },
    {
      "cell_type": "markdown",
      "source": [
        "**Momento de Retroalimentación: Módulo 2 Implementación de una técnica de aprendizaje máquina sin el uso de un framework. (Portafolio Implementación)**\n",
        "\n",
        "Entregable: Implementación de una técnica de aprendizaje máquina sin el uso de un framework.\n",
        "\n",
        "1.  Crea un repositorio de GitHub para este proyecto.\n",
        "2.  Programa uno de los algoritmos vistos en el módulo (o que tu profesor de módulo autorice) sin usar ninguna biblioteca o framework de aprendizaje máquina, ni de estadística avanzada. Lo que se busca es que implementes manualmente el algoritmo, no que importes un algoritmo ya implementado.\n",
        "3.  Prueba tu implementación con un set de datos y realiza algunas predicciones. Las predicciones las puedes correr en consola o las puedes implementar con una interfaz gráfica apoyándote en los visto en otros módulos.\n",
        "4.  Después de la entrega intermedia se te darán correcciones que puedes incluir en tu entrega final."
      ],
      "metadata": {
        "id": "_mQE6ZPCeeqp"
      }
    },
    {
      "cell_type": "markdown",
      "source": [
        "## **Inicio de la solución**"
      ],
      "metadata": {
        "id": "Gy4FLCJhes1z"
      }
    },
    {
      "cell_type": "markdown",
      "source": [
        "Aquí iniciamos la información que vamos a usar en el problema, nos conectamos con google drive y nos movemos a la capeta donde se encuentra el dataset"
      ],
      "metadata": {
        "id": "JdGCEdW_e1ah"
      }
    },
    {
      "cell_type": "code",
      "execution_count": 54,
      "metadata": {
        "id": "sAXmckLz1uOj",
        "colab": {
          "base_uri": "https://localhost:8080/"
        },
        "outputId": "0c7985db-5f0c-4a06-9c65-1f68dc34452d"
      },
      "outputs": [
        {
          "output_type": "stream",
          "name": "stdout",
          "text": [
            "Drive already mounted at /content/gdrive; to attempt to forcibly remount, call drive.mount(\"/content/gdrive\", force_remount=True).\n",
            "/content/gdrive/My Drive/Tec/ColabAI/wine\n",
            "/content/gdrive/MyDrive/Tec/ColabAI/wine\n",
            "wine.data  wine.names\n"
          ]
        }
      ],
      "source": [
        "#Cargamos los archivos\n",
        "from google.colab import drive  # importa libreria\n",
        "drive.mount(\"/content/gdrive\")  # utiliza comando\n",
        "\n",
        "!pwd\n",
        "\n",
        "#put your own path in google drive\n",
        "%cd '/content/gdrive/MyDrive/Tec/ColabAI/wine/'\n",
        "!ls"
      ]
    },
    {
      "cell_type": "markdown",
      "source": [
        "Importamos las librerias que vamos a utilizar. Depués leemos el archivo y para comprobar que todo está correto, imprimimos los primeros datos."
      ],
      "metadata": {
        "id": "6KQV75Mse_Qm"
      }
    },
    {
      "cell_type": "code",
      "source": [
        "import pandas as pd # importar libreria\n",
        "\n",
        "columns = [\"Alcohol\",\"Malic acid\",\"Ash\",\"Alcalinity of Ash\", \"Magnesium\",\"Total phenols\", \"Flavanoids\",\"Nonflavanoid phenols\", \"Proanthocyanins\",\"Color intensity\", \"HUE\",\"OD280/OD315 of diluted wines\", \"Proline\"] # definir nombres de columna manualmente\n",
        "df = pd.read_csv('wine.data', names = columns) # abrir el archivo de datos con los nombres dados para las columnas\n",
        "df.head() # mostrar las primeras líneas del dataset que se cargó"
      ],
      "metadata": {
        "colab": {
          "base_uri": "https://localhost:8080/",
          "height": 223
        },
        "id": "liLw9j2R3Ma2",
        "outputId": "154e46ed-3c33-42ee-f9be-5e0a08d77492"
      },
      "execution_count": 55,
      "outputs": [
        {
          "output_type": "execute_result",
          "data": {
            "text/plain": [
              "   Alcohol  Malic acid   Ash  Alcalinity of Ash  Magnesium  Total phenols  \\\n",
              "1    14.23        1.71  2.43               15.6        127           2.80   \n",
              "1    13.20        1.78  2.14               11.2        100           2.65   \n",
              "1    13.16        2.36  2.67               18.6        101           2.80   \n",
              "1    14.37        1.95  2.50               16.8        113           3.85   \n",
              "1    13.24        2.59  2.87               21.0        118           2.80   \n",
              "\n",
              "   Flavanoids  Nonflavanoid phenols  Proanthocyanins  Color intensity   HUE  \\\n",
              "1        3.06                  0.28             2.29             5.64  1.04   \n",
              "1        2.76                  0.26             1.28             4.38  1.05   \n",
              "1        3.24                  0.30             2.81             5.68  1.03   \n",
              "1        3.49                  0.24             2.18             7.80  0.86   \n",
              "1        2.69                  0.39             1.82             4.32  1.04   \n",
              "\n",
              "   OD280/OD315 of diluted wines  Proline  \n",
              "1                          3.92     1065  \n",
              "1                          3.40     1050  \n",
              "1                          3.17     1185  \n",
              "1                          3.45     1480  \n",
              "1                          2.93      735  "
            ],
            "text/html": [
              "\n",
              "  <div id=\"df-47b05f51-3cc8-47c8-abc8-b65ccfc7cb86\" class=\"colab-df-container\">\n",
              "    <div>\n",
              "<style scoped>\n",
              "    .dataframe tbody tr th:only-of-type {\n",
              "        vertical-align: middle;\n",
              "    }\n",
              "\n",
              "    .dataframe tbody tr th {\n",
              "        vertical-align: top;\n",
              "    }\n",
              "\n",
              "    .dataframe thead th {\n",
              "        text-align: right;\n",
              "    }\n",
              "</style>\n",
              "<table border=\"1\" class=\"dataframe\">\n",
              "  <thead>\n",
              "    <tr style=\"text-align: right;\">\n",
              "      <th></th>\n",
              "      <th>Alcohol</th>\n",
              "      <th>Malic acid</th>\n",
              "      <th>Ash</th>\n",
              "      <th>Alcalinity of Ash</th>\n",
              "      <th>Magnesium</th>\n",
              "      <th>Total phenols</th>\n",
              "      <th>Flavanoids</th>\n",
              "      <th>Nonflavanoid phenols</th>\n",
              "      <th>Proanthocyanins</th>\n",
              "      <th>Color intensity</th>\n",
              "      <th>HUE</th>\n",
              "      <th>OD280/OD315 of diluted wines</th>\n",
              "      <th>Proline</th>\n",
              "    </tr>\n",
              "  </thead>\n",
              "  <tbody>\n",
              "    <tr>\n",
              "      <th>1</th>\n",
              "      <td>14.23</td>\n",
              "      <td>1.71</td>\n",
              "      <td>2.43</td>\n",
              "      <td>15.6</td>\n",
              "      <td>127</td>\n",
              "      <td>2.80</td>\n",
              "      <td>3.06</td>\n",
              "      <td>0.28</td>\n",
              "      <td>2.29</td>\n",
              "      <td>5.64</td>\n",
              "      <td>1.04</td>\n",
              "      <td>3.92</td>\n",
              "      <td>1065</td>\n",
              "    </tr>\n",
              "    <tr>\n",
              "      <th>1</th>\n",
              "      <td>13.20</td>\n",
              "      <td>1.78</td>\n",
              "      <td>2.14</td>\n",
              "      <td>11.2</td>\n",
              "      <td>100</td>\n",
              "      <td>2.65</td>\n",
              "      <td>2.76</td>\n",
              "      <td>0.26</td>\n",
              "      <td>1.28</td>\n",
              "      <td>4.38</td>\n",
              "      <td>1.05</td>\n",
              "      <td>3.40</td>\n",
              "      <td>1050</td>\n",
              "    </tr>\n",
              "    <tr>\n",
              "      <th>1</th>\n",
              "      <td>13.16</td>\n",
              "      <td>2.36</td>\n",
              "      <td>2.67</td>\n",
              "      <td>18.6</td>\n",
              "      <td>101</td>\n",
              "      <td>2.80</td>\n",
              "      <td>3.24</td>\n",
              "      <td>0.30</td>\n",
              "      <td>2.81</td>\n",
              "      <td>5.68</td>\n",
              "      <td>1.03</td>\n",
              "      <td>3.17</td>\n",
              "      <td>1185</td>\n",
              "    </tr>\n",
              "    <tr>\n",
              "      <th>1</th>\n",
              "      <td>14.37</td>\n",
              "      <td>1.95</td>\n",
              "      <td>2.50</td>\n",
              "      <td>16.8</td>\n",
              "      <td>113</td>\n",
              "      <td>3.85</td>\n",
              "      <td>3.49</td>\n",
              "      <td>0.24</td>\n",
              "      <td>2.18</td>\n",
              "      <td>7.80</td>\n",
              "      <td>0.86</td>\n",
              "      <td>3.45</td>\n",
              "      <td>1480</td>\n",
              "    </tr>\n",
              "    <tr>\n",
              "      <th>1</th>\n",
              "      <td>13.24</td>\n",
              "      <td>2.59</td>\n",
              "      <td>2.87</td>\n",
              "      <td>21.0</td>\n",
              "      <td>118</td>\n",
              "      <td>2.80</td>\n",
              "      <td>2.69</td>\n",
              "      <td>0.39</td>\n",
              "      <td>1.82</td>\n",
              "      <td>4.32</td>\n",
              "      <td>1.04</td>\n",
              "      <td>2.93</td>\n",
              "      <td>735</td>\n",
              "    </tr>\n",
              "  </tbody>\n",
              "</table>\n",
              "</div>\n",
              "    <div class=\"colab-df-buttons\">\n",
              "\n",
              "  <div class=\"colab-df-container\">\n",
              "    <button class=\"colab-df-convert\" onclick=\"convertToInteractive('df-47b05f51-3cc8-47c8-abc8-b65ccfc7cb86')\"\n",
              "            title=\"Convert this dataframe to an interactive table.\"\n",
              "            style=\"display:none;\">\n",
              "\n",
              "  <svg xmlns=\"http://www.w3.org/2000/svg\" height=\"24px\" viewBox=\"0 -960 960 960\">\n",
              "    <path d=\"M120-120v-720h720v720H120Zm60-500h600v-160H180v160Zm220 220h160v-160H400v160Zm0 220h160v-160H400v160ZM180-400h160v-160H180v160Zm440 0h160v-160H620v160ZM180-180h160v-160H180v160Zm440 0h160v-160H620v160Z\"/>\n",
              "  </svg>\n",
              "    </button>\n",
              "\n",
              "  <style>\n",
              "    .colab-df-container {\n",
              "      display:flex;\n",
              "      gap: 12px;\n",
              "    }\n",
              "\n",
              "    .colab-df-convert {\n",
              "      background-color: #E8F0FE;\n",
              "      border: none;\n",
              "      border-radius: 50%;\n",
              "      cursor: pointer;\n",
              "      display: none;\n",
              "      fill: #1967D2;\n",
              "      height: 32px;\n",
              "      padding: 0 0 0 0;\n",
              "      width: 32px;\n",
              "    }\n",
              "\n",
              "    .colab-df-convert:hover {\n",
              "      background-color: #E2EBFA;\n",
              "      box-shadow: 0px 1px 2px rgba(60, 64, 67, 0.3), 0px 1px 3px 1px rgba(60, 64, 67, 0.15);\n",
              "      fill: #174EA6;\n",
              "    }\n",
              "\n",
              "    .colab-df-buttons div {\n",
              "      margin-bottom: 4px;\n",
              "    }\n",
              "\n",
              "    [theme=dark] .colab-df-convert {\n",
              "      background-color: #3B4455;\n",
              "      fill: #D2E3FC;\n",
              "    }\n",
              "\n",
              "    [theme=dark] .colab-df-convert:hover {\n",
              "      background-color: #434B5C;\n",
              "      box-shadow: 0px 1px 3px 1px rgba(0, 0, 0, 0.15);\n",
              "      filter: drop-shadow(0px 1px 2px rgba(0, 0, 0, 0.3));\n",
              "      fill: #FFFFFF;\n",
              "    }\n",
              "  </style>\n",
              "\n",
              "    <script>\n",
              "      const buttonEl =\n",
              "        document.querySelector('#df-47b05f51-3cc8-47c8-abc8-b65ccfc7cb86 button.colab-df-convert');\n",
              "      buttonEl.style.display =\n",
              "        google.colab.kernel.accessAllowed ? 'block' : 'none';\n",
              "\n",
              "      async function convertToInteractive(key) {\n",
              "        const element = document.querySelector('#df-47b05f51-3cc8-47c8-abc8-b65ccfc7cb86');\n",
              "        const dataTable =\n",
              "          await google.colab.kernel.invokeFunction('convertToInteractive',\n",
              "                                                    [key], {});\n",
              "        if (!dataTable) return;\n",
              "\n",
              "        const docLinkHtml = 'Like what you see? Visit the ' +\n",
              "          '<a target=\"_blank\" href=https://colab.research.google.com/notebooks/data_table.ipynb>data table notebook</a>'\n",
              "          + ' to learn more about interactive tables.';\n",
              "        element.innerHTML = '';\n",
              "        dataTable['output_type'] = 'display_data';\n",
              "        await google.colab.output.renderOutput(dataTable, element);\n",
              "        const docLink = document.createElement('div');\n",
              "        docLink.innerHTML = docLinkHtml;\n",
              "        element.appendChild(docLink);\n",
              "      }\n",
              "    </script>\n",
              "  </div>\n",
              "\n",
              "\n",
              "<div id=\"df-f606b501-c490-4e85-9caa-8d12135ca0be\">\n",
              "  <button class=\"colab-df-quickchart\" onclick=\"quickchart('df-f606b501-c490-4e85-9caa-8d12135ca0be')\"\n",
              "            title=\"Suggest charts.\"\n",
              "            style=\"display:none;\">\n",
              "\n",
              "<svg xmlns=\"http://www.w3.org/2000/svg\" height=\"24px\"viewBox=\"0 0 24 24\"\n",
              "     width=\"24px\">\n",
              "    <g>\n",
              "        <path d=\"M19 3H5c-1.1 0-2 .9-2 2v14c0 1.1.9 2 2 2h14c1.1 0 2-.9 2-2V5c0-1.1-.9-2-2-2zM9 17H7v-7h2v7zm4 0h-2V7h2v10zm4 0h-2v-4h2v4z\"/>\n",
              "    </g>\n",
              "</svg>\n",
              "  </button>\n",
              "\n",
              "<style>\n",
              "  .colab-df-quickchart {\n",
              "    background-color: #E8F0FE;\n",
              "    border: none;\n",
              "    border-radius: 50%;\n",
              "    cursor: pointer;\n",
              "    display: none;\n",
              "    fill: #1967D2;\n",
              "    height: 32px;\n",
              "    padding: 0 0 0 0;\n",
              "    width: 32px;\n",
              "  }\n",
              "\n",
              "  .colab-df-quickchart:hover {\n",
              "    background-color: #E2EBFA;\n",
              "    box-shadow: 0px 1px 2px rgba(60, 64, 67, 0.3), 0px 1px 3px 1px rgba(60, 64, 67, 0.15);\n",
              "    fill: #174EA6;\n",
              "  }\n",
              "\n",
              "  [theme=dark] .colab-df-quickchart {\n",
              "    background-color: #3B4455;\n",
              "    fill: #D2E3FC;\n",
              "  }\n",
              "\n",
              "  [theme=dark] .colab-df-quickchart:hover {\n",
              "    background-color: #434B5C;\n",
              "    box-shadow: 0px 1px 3px 1px rgba(0, 0, 0, 0.15);\n",
              "    filter: drop-shadow(0px 1px 2px rgba(0, 0, 0, 0.3));\n",
              "    fill: #FFFFFF;\n",
              "  }\n",
              "</style>\n",
              "\n",
              "  <script>\n",
              "    async function quickchart(key) {\n",
              "      const charts = await google.colab.kernel.invokeFunction(\n",
              "          'suggestCharts', [key], {});\n",
              "    }\n",
              "    (() => {\n",
              "      let quickchartButtonEl =\n",
              "        document.querySelector('#df-f606b501-c490-4e85-9caa-8d12135ca0be button');\n",
              "      quickchartButtonEl.style.display =\n",
              "        google.colab.kernel.accessAllowed ? 'block' : 'none';\n",
              "    })();\n",
              "  </script>\n",
              "</div>\n",
              "    </div>\n",
              "  </div>\n"
            ]
          },
          "metadata": {},
          "execution_count": 55
        }
      ]
    },
    {
      "cell_type": "markdown",
      "source": [
        "## **Definición del problema**"
      ],
      "metadata": {
        "id": "v677aS0DfL9n"
      }
    },
    {
      "cell_type": "markdown",
      "source": [
        "Como estamos usando un dataset nuevo, tenemos que ver que variables podemos comparar para realizar una predicción. Es por esto que a continuación se hace una matriz de correlación."
      ],
      "metadata": {
        "id": "AE3Flb1RfPWK"
      }
    },
    {
      "cell_type": "code",
      "source": [
        "# Select only the specified columns from the DataFrame\n",
        "selected_columns = df[columns]\n",
        "\n",
        "# Calculate the correlation matrix\n",
        "correlation_matrix = selected_columns.corr()\n",
        "\n",
        "# Display the correlation matrix\n",
        "print(correlation_matrix)"
      ],
      "metadata": {
        "colab": {
          "base_uri": "https://localhost:8080/"
        },
        "id": "-drCQASgXpHq",
        "outputId": "4247189c-5e10-44a2-8a55-f1da96a6fad7"
      },
      "execution_count": 56,
      "outputs": [
        {
          "output_type": "stream",
          "name": "stdout",
          "text": [
            "                               Alcohol  Malic acid       Ash  \\\n",
            "Alcohol                       1.000000    0.094397  0.211545   \n",
            "Malic acid                    0.094397    1.000000  0.164045   \n",
            "Ash                           0.211545    0.164045  1.000000   \n",
            "Alcalinity of Ash            -0.310235    0.288500  0.443367   \n",
            "Magnesium                     0.270798   -0.054575  0.286587   \n",
            "Total phenols                 0.289101   -0.335167  0.128980   \n",
            "Flavanoids                    0.236815   -0.411007  0.115077   \n",
            "Nonflavanoid phenols         -0.155929    0.292977  0.186230   \n",
            "Proanthocyanins               0.136698   -0.220746  0.009652   \n",
            "Color intensity               0.546364    0.248985  0.258887   \n",
            "HUE                          -0.071747   -0.561296 -0.074667   \n",
            "OD280/OD315 of diluted wines  0.072343   -0.368710  0.003911   \n",
            "Proline                       0.643720   -0.192011  0.223626   \n",
            "\n",
            "                              Alcalinity of Ash  Magnesium  Total phenols  \\\n",
            "Alcohol                               -0.310235   0.270798       0.289101   \n",
            "Malic acid                             0.288500  -0.054575      -0.335167   \n",
            "Ash                                    0.443367   0.286587       0.128980   \n",
            "Alcalinity of Ash                      1.000000  -0.083333      -0.321113   \n",
            "Magnesium                             -0.083333   1.000000       0.214401   \n",
            "Total phenols                         -0.321113   0.214401       1.000000   \n",
            "Flavanoids                            -0.351370   0.195784       0.864564   \n",
            "Nonflavanoid phenols                   0.361922  -0.256294      -0.449935   \n",
            "Proanthocyanins                       -0.197327   0.236441       0.612413   \n",
            "Color intensity                        0.018732   0.199950      -0.055136   \n",
            "HUE                                   -0.273955   0.055398       0.433681   \n",
            "OD280/OD315 of diluted wines          -0.276769   0.066004       0.699949   \n",
            "Proline                               -0.440597   0.393351       0.498115   \n",
            "\n",
            "                              Flavanoids  Nonflavanoid phenols  \\\n",
            "Alcohol                         0.236815             -0.155929   \n",
            "Malic acid                     -0.411007              0.292977   \n",
            "Ash                             0.115077              0.186230   \n",
            "Alcalinity of Ash              -0.351370              0.361922   \n",
            "Magnesium                       0.195784             -0.256294   \n",
            "Total phenols                   0.864564             -0.449935   \n",
            "Flavanoids                      1.000000             -0.537900   \n",
            "Nonflavanoid phenols           -0.537900              1.000000   \n",
            "Proanthocyanins                 0.652692             -0.365845   \n",
            "Color intensity                -0.172379              0.139057   \n",
            "HUE                             0.543479             -0.262640   \n",
            "OD280/OD315 of diluted wines    0.787194             -0.503270   \n",
            "Proline                         0.494193             -0.311385   \n",
            "\n",
            "                              Proanthocyanins  Color intensity       HUE  \\\n",
            "Alcohol                              0.136698         0.546364 -0.071747   \n",
            "Malic acid                          -0.220746         0.248985 -0.561296   \n",
            "Ash                                  0.009652         0.258887 -0.074667   \n",
            "Alcalinity of Ash                   -0.197327         0.018732 -0.273955   \n",
            "Magnesium                            0.236441         0.199950  0.055398   \n",
            "Total phenols                        0.612413        -0.055136  0.433681   \n",
            "Flavanoids                           0.652692        -0.172379  0.543479   \n",
            "Nonflavanoid phenols                -0.365845         0.139057 -0.262640   \n",
            "Proanthocyanins                      1.000000        -0.025250  0.295544   \n",
            "Color intensity                     -0.025250         1.000000 -0.521813   \n",
            "HUE                                  0.295544        -0.521813  1.000000   \n",
            "OD280/OD315 of diluted wines         0.519067        -0.428815  0.565468   \n",
            "Proline                              0.330417         0.316100  0.236183   \n",
            "\n",
            "                              OD280/OD315 of diluted wines   Proline  \n",
            "Alcohol                                           0.072343  0.643720  \n",
            "Malic acid                                       -0.368710 -0.192011  \n",
            "Ash                                               0.003911  0.223626  \n",
            "Alcalinity of Ash                                -0.276769 -0.440597  \n",
            "Magnesium                                         0.066004  0.393351  \n",
            "Total phenols                                     0.699949  0.498115  \n",
            "Flavanoids                                        0.787194  0.494193  \n",
            "Nonflavanoid phenols                             -0.503270 -0.311385  \n",
            "Proanthocyanins                                   0.519067  0.330417  \n",
            "Color intensity                                  -0.428815  0.316100  \n",
            "HUE                                               0.565468  0.236183  \n",
            "OD280/OD315 of diluted wines                      1.000000  0.312761  \n",
            "Proline                                           0.312761  1.000000  \n"
          ]
        }
      ]
    },
    {
      "cell_type": "markdown",
      "source": [
        "Podemos ver que, las variables de Total phenols y Flavanoids tienen una alta correlación, con un valor de 0.86 en la matriz. Es por esto que se seleccionan estas variables para hacer el modelo. Para visualizar su correlación podemos ver el siguiente gráfico."
      ],
      "metadata": {
        "id": "niphHIe_fdGK"
      }
    },
    {
      "cell_type": "code",
      "source": [
        "from matplotlib import pyplot as plt\n",
        "plt.scatter(df['Total phenols'],df['Flavanoids'],color='g')"
      ],
      "metadata": {
        "colab": {
          "base_uri": "https://localhost:8080/",
          "height": 447
        },
        "id": "lcU5MSF98aIr",
        "outputId": "b96258b2-6103-404e-a741-1f2f19bc91b4"
      },
      "execution_count": 57,
      "outputs": [
        {
          "output_type": "execute_result",
          "data": {
            "text/plain": [
              "<matplotlib.collections.PathCollection at 0x7feaa07e4f70>"
            ]
          },
          "metadata": {},
          "execution_count": 57
        },
        {
          "output_type": "display_data",
          "data": {
            "text/plain": [
              "<Figure size 640x480 with 1 Axes>"
            ],
            "image/png": "[encoded data removed]"
          },
          "metadata": {}
        }
      ]
    },
    {
      "cell_type": "markdown",
      "source": [
        "## **Implementación de la regresión lineal**"
      ],
      "metadata": {
        "id": "VXAzRrbpfxhn"
      }
    },
    {
      "cell_type": "markdown",
      "source": [
        "Podemos ver que el comportamiento que tienen estas variables puede ser determinado por una regresión lineal. A partir de aquí iniciamos con su implementación."
      ],
      "metadata": {
        "id": "lsq5l3E0f0qy"
      }
    },
    {
      "cell_type": "markdown",
      "source": [
        "Definimos las variables que vamos a utilizar y les damos un eje (x y y). Además, inicializamos los valores del modelo para theta (coeficientes de la función de predicción) y alpha (taza de aprendizaje)"
      ],
      "metadata": {
        "id": "J_i5t6Bjf9Xb"
      }
    },
    {
      "cell_type": "code",
      "source": [
        "x = df['Total phenols']\n",
        "y = df['Flavanoids']\n",
        "\n",
        "# Crear lista con los hiper-parámetros iniciales (thetas)\n",
        "theta = [1,1]\n",
        "\n",
        "# Cargar el valor del learning rate (alpha)\n",
        "alpha = 0.1"
      ],
      "metadata": {
        "id": "4ZmMAv9qPsdq"
      },
      "execution_count": 58,
      "outputs": []
    },
    {
      "cell_type": "markdown",
      "source": [
        "Una vez definidas las variables iniciales, creamos nuestro modelo representado por h, el cual tiene la forma de una función lineal."
      ],
      "metadata": {
        "id": "Z14V0N2EgNZR"
      }
    },
    {
      "cell_type": "code",
      "source": [
        "# Crear función lambda para la función de hipótesis\n",
        "h = lambda x,theta: theta[0] + theta[1] * x\n",
        "\n",
        "# Calcular el total de muestras a partir de los datos (n)\n",
        "n = len(x)"
      ],
      "metadata": {
        "id": "qjmmayeTYssP"
      },
      "execution_count": 59,
      "outputs": []
    },
    {
      "cell_type": "markdown",
      "source": [
        "Se inicia el proceso de calcular los valores necesarios para que theta se ajuste al modelo. No se usan tantas repeticiones ya que con estas es suficiente para llegar a un resultado estable."
      ],
      "metadata": {
        "id": "lksAmES7gaGP"
      }
    },
    {
      "cell_type": "code",
      "source": [
        "its = 10000 #Variable para definir el numero de iteraciones\n",
        "\n",
        "for i in range(its):\n",
        "  # Calcular delta para theta0 y para cada muestra\n",
        "  # Calcular delta para theta1 y para cada muestra\n",
        "  # Calcular sumatorias y promedio\n",
        "  delta = []\n",
        "  deltax = []\n",
        "  for xi,yi in zip(x,y):\n",
        "    pred = h(xi,theta)\n",
        "    delta.append(pred-yi)\n",
        "    deltax.append((pred-yi)*xi)\n",
        "\n",
        "  dJt0 = 1/n*sum(delta)\n",
        "  dJt1 = 1/n*sum(deltax)\n",
        "\n",
        "  theta[0] = theta[0] - alpha*dJt0\n",
        "  theta[1] = theta[1] - alpha*dJt1\n",
        "\n",
        "print(theta)"
      ],
      "metadata": {
        "colab": {
          "base_uri": "https://localhost:8080/"
        },
        "id": "JbMXLAD7Yxdj",
        "outputId": "5e524ff7-8344-4474-b92a-d665cc1a2356"
      },
      "execution_count": 60,
      "outputs": [
        {
          "output_type": "stream",
          "name": "stdout",
          "text": [
            "[-1.1376271584040418, 1.3798439140232532]\n"
          ]
        }
      ]
    },
    {
      "cell_type": "markdown",
      "source": [
        "Podemos ver que los valores finales de theta cambiaron, pero para comprobar que sean acertados, podemos gráficar los datos y la función de predicción"
      ],
      "metadata": {
        "id": "L3BqgM3ygo2F"
      }
    },
    {
      "cell_type": "code",
      "source": [
        "x_range = range(round(min(x)), round(max(x)) + 1)\n",
        "hypothesis_line = [h(x_val, theta) for x_val in x_range]\n",
        "plt.plot(x_range, hypothesis_line, color='blue', label='Hypothesis Line')\n",
        "plt.scatter(x, y,color='g')\n",
        "plt.show()"
      ],
      "metadata": {
        "colab": {
          "base_uri": "https://localhost:8080/",
          "height": 430
        },
        "id": "WMbQAAFCQgRF",
        "outputId": "a5542790-cc56-4c98-caee-a42176b8f4e3"
      },
      "execution_count": 61,
      "outputs": [
        {
          "output_type": "display_data",
          "data": {
            "text/plain": [
              "<Figure size 640x480 with 1 Axes>"
            ],
            "image/png": "[encoded data removed]"
          },
          "metadata": {}
        }
      ]
    },
    {
      "cell_type": "markdown",
      "source": [
        "En la gráfica se puede observar que la línea se ajusta correctamente al comportamiento de los datos."
      ],
      "metadata": {
        "id": "sJtw6VsFgzSa"
      }
    },
    {
      "cell_type": "markdown",
      "source": [
        "## **Pruebas**"
      ],
      "metadata": {
        "id": "l5z83dx_g5ZV"
      }
    },
    {
      "cell_type": "markdown",
      "source": [
        "Finalmente, podemos probar el modelo usando diferentes valores de Total Flavanoids, y los resultados que obtenemos tienen lógica en comparación de los datos obtenidos del dataset"
      ],
      "metadata": {
        "id": "ybuo25fKg777"
      }
    },
    {
      "cell_type": "code",
      "source": [
        "h(2.5, theta)"
      ],
      "metadata": {
        "colab": {
          "base_uri": "https://localhost:8080/"
        },
        "id": "hVUF_ZjvabAJ",
        "outputId": "56755db8-cba4-47c9-fbf0-c6648c904982"
      },
      "execution_count": 62,
      "outputs": [
        {
          "output_type": "execute_result",
          "data": {
            "text/plain": [
              "2.311982626654091"
            ]
          },
          "metadata": {},
          "execution_count": 62
        }
      ]
    },
    {
      "cell_type": "code",
      "source": [
        "h(1.5, theta)"
      ],
      "metadata": {
        "colab": {
          "base_uri": "https://localhost:8080/"
        },
        "id": "tf1vVhila2cH",
        "outputId": "40a92a52-e4a2-436f-e747-8a46b330222f"
      },
      "execution_count": 63,
      "outputs": [
        {
          "output_type": "execute_result",
          "data": {
            "text/plain": [
              "0.9321387126308383"
            ]
          },
          "metadata": {},
          "execution_count": 63
        }
      ]
    },
    {
      "cell_type": "code",
      "source": [
        "h(4, theta)"
      ],
      "metadata": {
        "colab": {
          "base_uri": "https://localhost:8080/"
        },
        "id": "uIDRbdbha3ay",
        "outputId": "6b2ca7f4-d123-42ba-c271-410518542524"
      },
      "execution_count": 64,
      "outputs": [
        {
          "output_type": "execute_result",
          "data": {
            "text/plain": [
              "4.381748497688971"
            ]
          },
          "metadata": {},
          "execution_count": 64
        }
      ]
    }
  ]
}