{
  "nbformat": 4,
  "nbformat_minor": 0,
  "metadata": {
    "colab": {
      "provenance": []
    },
    "kernelspec": {
      "name": "python3",
      "display_name": "Python 3"
    },
    "language_info": {
      "name": "python"
    }
  },
  "cells": [
    {
      "cell_type": "markdown",
      "source": [
        "# **Aprendizaje máquina sin el uso de frameworks**"
      ],
      "metadata": {
        "id": "fa7LuBP1epg5"
      }
    },
    {
      "cell_type": "markdown",
      "source": [
        "Francisco Mestizo Hernández A01731549"
      ],
      "metadata": {
        "id": "WunGNGklesec"
      }
    },
    {
      "cell_type": "markdown",
      "source": [
        "## **Instrucciones**"
      ],
      "metadata": {
        "id": "JwGH_Sq9evJM"
      }
    },
    {
      "cell_type": "markdown",
      "source": [
        "Entregable: Uso de framework o biblioteca de aprendizaje máquina para la implementación de una solución.\n",
        "\n",
        "* Crea un repositorio de GitHub para este proyecto.\n",
        "* Programa uno de los algoritmos vistos en el módulo (o que tu profesor de módulo autorice) haciendo uso de una biblioteca o framework de aprendizaje máquina. Lo que se busca es que demuestres tu conocimiento sobre el framework y como configurar el algoritmo.\n",
        "* Prueba tu implementación con un set de datos y realiza algunas predicciones. Las predicciones las puedes correr en consola o las puedes implementar con una interfaz gráfica apoyándote en los visto en otros módulos.\n",
        "* Después de la entrega intermedia se te darán correcciones que puedes incluir en tu entrega final."
      ],
      "metadata": {
        "id": "hTIxaHm3exUk"
      }
    },
    {
      "cell_type": "markdown",
      "source": [
        "## **Introducción**"
      ],
      "metadata": {
        "id": "knni3359gAn0"
      }
    },
    {
      "cell_type": "markdown",
      "source": [
        "\n",
        "En términos generales, debemos seguir los siguientes pasos:\n",
        "1. Importar módulos\n",
        "2. Cargar datos\n",
        "3. Separar datos en subconjuntos\n",
        "4. Entrenar el modelo\n",
        "5. Analizar su desempeño\n",
        "6. Usar el modelo para nuevas estimaciones (datos no vistos)\n"
      ],
      "metadata": {
        "id": "TmbsZm8laJv5"
      }
    },
    {
      "cell_type": "markdown",
      "source": [
        "Primero, comenzamos cargando el set de datos que utilizaremos para el modelo. En este caso serán los datos de **iris**. Este set de datos se puede encontrar en este link:\n",
        "\n",
        "https://github.com/FranciscoMest02/TC3006/tree/main/retro/M2_ML/Momento%20de%20retroalimentacion%202%3A%20Framework/data\n",
        "\n",
        "El set de datos consta de 150 registros, para tres clases diferentes de iris:\n",
        "* Iris setosa\n",
        "* Iris versicolor\n",
        "* Iris virginica\n",
        "\n",
        "Las variables independientes son el sepal length, sepal width, petal length, pedal width. Todas estas variables son numéricas y estan medidas en centímetros.\n",
        "\n",
        "Debido a que en el set de datos se listan tres clases, entonces el problema que resolveremos será de clasificación de esas clases dependiendo de las caracteristicas de las plantas."
      ],
      "metadata": {
        "id": "HiBZxO6ggHIl"
      }
    },
    {
      "cell_type": "code",
      "source": [
        "#Cargamos los archivos\n",
        "from google.colab import drive  # importa libreria\n",
        "drive.mount(\"/content/gdrive\")  # utiliza comando\n",
        "\n",
        "!pwd\n",
        "\n",
        "#put your own path in google drive\n",
        "%cd '/content/gdrive/MyDrive/Tec/ColabAI/iris/'\n",
        "!ls\n",
        "\n",
        "import pandas as pd # importar libreria\n",
        "\n",
        "columns = [\"sepal length\",\"sepal width\",\"petal length\",\"petal width\", \"class\"] # definir nombres de columna manualmente\n",
        "df = pd.read_csv('iris.data', names=columns) # abrir el archivo de datos con los nombres dados para las columnas\n",
        "df.head() # mostrar las primeras líneas del dataset que se cargó"
      ],
      "metadata": {
        "colab": {
          "base_uri": "https://localhost:8080/",
          "height": 275
        },
        "id": "IVWDE8VryhCR",
        "outputId": "3b07c0b8-7b25-43ae-8a66-ad5cd4ecacaa"
      },
      "execution_count": 44,
      "outputs": [
        {
          "output_type": "stream",
          "name": "stdout",
          "text": [
            "Drive already mounted at /content/gdrive; to attempt to forcibly remount, call drive.mount(\"/content/gdrive\", force_remount=True).\n",
            "/content/gdrive/My Drive/Tec/ColabAI/iris\n",
            "/content/gdrive/MyDrive/Tec/ColabAI/iris\n",
            "iris.data  iris.names\n"
          ]
        },
        {
          "output_type": "execute_result",
          "data": {
            "text/plain": [
              "   sepal length  sepal width  petal length  petal width        class\n",
              "0           5.1          3.5           1.4          0.2  Iris-setosa\n",
              "1           4.9          3.0           1.4          0.2  Iris-setosa\n",
              "2           4.7          3.2           1.3          0.2  Iris-setosa\n",
              "3           4.6          3.1           1.5          0.2  Iris-setosa\n",
              "4           5.0          3.6           1.4          0.2  Iris-setosa"
            ],
            "text/html": [
              "\n",
              "  <div id=\"df-25f26dcb-2a36-4951-bff8-258108bae901\" class=\"colab-df-container\">\n",
              "    <div>\n",
              "<style scoped>\n",
              "    .dataframe tbody tr th:only-of-type {\n",
              "        vertical-align: middle;\n",
              "    }\n",
              "\n",
              "    .dataframe tbody tr th {\n",
              "        vertical-align: top;\n",
              "    }\n",
              "\n",
              "    .dataframe thead th {\n",
              "        text-align: right;\n",
              "    }\n",
              "</style>\n",
              "<table border=\"1\" class=\"dataframe\">\n",
              "  <thead>\n",
              "    <tr style=\"text-align: right;\">\n",
              "      <th></th>\n",
              "      <th>sepal length</th>\n",
              "      <th>sepal width</th>\n",
              "      <th>petal length</th>\n",
              "      <th>petal width</th>\n",
              "      <th>class</th>\n",
              "    </tr>\n",
              "  </thead>\n",
              "  <tbody>\n",
              "    <tr>\n",
              "      <th>0</th>\n",
              "      <td>5.1</td>\n",
              "      <td>3.5</td>\n",
              "      <td>1.4</td>\n",
              "      <td>0.2</td>\n",
              "      <td>Iris-setosa</td>\n",
              "    </tr>\n",
              "    <tr>\n",
              "      <th>1</th>\n",
              "      <td>4.9</td>\n",
              "      <td>3.0</td>\n",
              "      <td>1.4</td>\n",
              "      <td>0.2</td>\n",
              "      <td>Iris-setosa</td>\n",
              "    </tr>\n",
              "    <tr>\n",
              "      <th>2</th>\n",
              "      <td>4.7</td>\n",
              "      <td>3.2</td>\n",
              "      <td>1.3</td>\n",
              "      <td>0.2</td>\n",
              "      <td>Iris-setosa</td>\n",
              "    </tr>\n",
              "    <tr>\n",
              "      <th>3</th>\n",
              "      <td>4.6</td>\n",
              "      <td>3.1</td>\n",
              "      <td>1.5</td>\n",
              "      <td>0.2</td>\n",
              "      <td>Iris-setosa</td>\n",
              "    </tr>\n",
              "    <tr>\n",
              "      <th>4</th>\n",
              "      <td>5.0</td>\n",
              "      <td>3.6</td>\n",
              "      <td>1.4</td>\n",
              "      <td>0.2</td>\n",
              "      <td>Iris-setosa</td>\n",
              "    </tr>\n",
              "  </tbody>\n",
              "</table>\n",
              "</div>\n",
              "    <div class=\"colab-df-buttons\">\n",
              "\n",
              "  <div class=\"colab-df-container\">\n",
              "    <button class=\"colab-df-convert\" onclick=\"convertToInteractive('df-25f26dcb-2a36-4951-bff8-258108bae901')\"\n",
              "            title=\"Convert this dataframe to an interactive table.\"\n",
              "            style=\"display:none;\">\n",
              "\n",
              "  <svg xmlns=\"http://www.w3.org/2000/svg\" height=\"24px\" viewBox=\"0 -960 960 960\">\n",
              "    <path d=\"M120-120v-720h720v720H120Zm60-500h600v-160H180v160Zm220 220h160v-160H400v160Zm0 220h160v-160H400v160ZM180-400h160v-160H180v160Zm440 0h160v-160H620v160ZM180-180h160v-160H180v160Zm440 0h160v-160H620v160Z\"/>\n",
              "  </svg>\n",
              "    </button>\n",
              "\n",
              "  <style>\n",
              "    .colab-df-container {\n",
              "      display:flex;\n",
              "      gap: 12px;\n",
              "    }\n",
              "\n",
              "    .colab-df-convert {\n",
              "      background-color: #E8F0FE;\n",
              "      border: none;\n",
              "      border-radius: 50%;\n",
              "      cursor: pointer;\n",
              "      display: none;\n",
              "      fill: #1967D2;\n",
              "      height: 32px;\n",
              "      padding: 0 0 0 0;\n",
              "      width: 32px;\n",
              "    }\n",
              "\n",
              "    .colab-df-convert:hover {\n",
              "      background-color: #E2EBFA;\n",
              "      box-shadow: 0px 1px 2px rgba(60, 64, 67, 0.3), 0px 1px 3px 1px rgba(60, 64, 67, 0.15);\n",
              "      fill: #174EA6;\n",
              "    }\n",
              "\n",
              "    .colab-df-buttons div {\n",
              "      margin-bottom: 4px;\n",
              "    }\n",
              "\n",
              "    [theme=dark] .colab-df-convert {\n",
              "      background-color: #3B4455;\n",
              "      fill: #D2E3FC;\n",
              "    }\n",
              "\n",
              "    [theme=dark] .colab-df-convert:hover {\n",
              "      background-color: #434B5C;\n",
              "      box-shadow: 0px 1px 3px 1px rgba(0, 0, 0, 0.15);\n",
              "      filter: drop-shadow(0px 1px 2px rgba(0, 0, 0, 0.3));\n",
              "      fill: #FFFFFF;\n",
              "    }\n",
              "  </style>\n",
              "\n",
              "    <script>\n",
              "      const buttonEl =\n",
              "        document.querySelector('#df-25f26dcb-2a36-4951-bff8-258108bae901 button.colab-df-convert');\n",
              "      buttonEl.style.display =\n",
              "        google.colab.kernel.accessAllowed ? 'block' : 'none';\n",
              "\n",
              "      async function convertToInteractive(key) {\n",
              "        const element = document.querySelector('#df-25f26dcb-2a36-4951-bff8-258108bae901');\n",
              "        const dataTable =\n",
              "          await google.colab.kernel.invokeFunction('convertToInteractive',\n",
              "                                                    [key], {});\n",
              "        if (!dataTable) return;\n",
              "\n",
              "        const docLinkHtml = 'Like what you see? Visit the ' +\n",
              "          '<a target=\"_blank\" href=https://colab.research.google.com/notebooks/data_table.ipynb>data table notebook</a>'\n",
              "          + ' to learn more about interactive tables.';\n",
              "        element.innerHTML = '';\n",
              "        dataTable['output_type'] = 'display_data';\n",
              "        await google.colab.output.renderOutput(dataTable, element);\n",
              "        const docLink = document.createElement('div');\n",
              "        docLink.innerHTML = docLinkHtml;\n",
              "        element.appendChild(docLink);\n",
              "      }\n",
              "    </script>\n",
              "  </div>\n",
              "\n",
              "\n",
              "<div id=\"df-811c6ec4-742d-4985-b3c9-7c714132ace0\">\n",
              "  <button class=\"colab-df-quickchart\" onclick=\"quickchart('df-811c6ec4-742d-4985-b3c9-7c714132ace0')\"\n",
              "            title=\"Suggest charts.\"\n",
              "            style=\"display:none;\">\n",
              "\n",
              "<svg xmlns=\"http://www.w3.org/2000/svg\" height=\"24px\"viewBox=\"0 0 24 24\"\n",
              "     width=\"24px\">\n",
              "    <g>\n",
              "        <path d=\"M19 3H5c-1.1 0-2 .9-2 2v14c0 1.1.9 2 2 2h14c1.1 0 2-.9 2-2V5c0-1.1-.9-2-2-2zM9 17H7v-7h2v7zm4 0h-2V7h2v10zm4 0h-2v-4h2v4z\"/>\n",
              "    </g>\n",
              "</svg>\n",
              "  </button>\n",
              "\n",
              "<style>\n",
              "  .colab-df-quickchart {\n",
              "    background-color: #E8F0FE;\n",
              "    border: none;\n",
              "    border-radius: 50%;\n",
              "    cursor: pointer;\n",
              "    display: none;\n",
              "    fill: #1967D2;\n",
              "    height: 32px;\n",
              "    padding: 0 0 0 0;\n",
              "    width: 32px;\n",
              "  }\n",
              "\n",
              "  .colab-df-quickchart:hover {\n",
              "    background-color: #E2EBFA;\n",
              "    box-shadow: 0px 1px 2px rgba(60, 64, 67, 0.3), 0px 1px 3px 1px rgba(60, 64, 67, 0.15);\n",
              "    fill: #174EA6;\n",
              "  }\n",
              "\n",
              "  [theme=dark] .colab-df-quickchart {\n",
              "    background-color: #3B4455;\n",
              "    fill: #D2E3FC;\n",
              "  }\n",
              "\n",
              "  [theme=dark] .colab-df-quickchart:hover {\n",
              "    background-color: #434B5C;\n",
              "    box-shadow: 0px 1px 3px 1px rgba(0, 0, 0, 0.15);\n",
              "    filter: drop-shadow(0px 1px 2px rgba(0, 0, 0, 0.3));\n",
              "    fill: #FFFFFF;\n",
              "  }\n",
              "</style>\n",
              "\n",
              "  <script>\n",
              "    async function quickchart(key) {\n",
              "      const charts = await google.colab.kernel.invokeFunction(\n",
              "          'suggestCharts', [key], {});\n",
              "    }\n",
              "    (() => {\n",
              "      let quickchartButtonEl =\n",
              "        document.querySelector('#df-811c6ec4-742d-4985-b3c9-7c714132ace0 button');\n",
              "      quickchartButtonEl.style.display =\n",
              "        google.colab.kernel.accessAllowed ? 'block' : 'none';\n",
              "    })();\n",
              "  </script>\n",
              "</div>\n",
              "    </div>\n",
              "  </div>\n"
            ]
          },
          "metadata": {},
          "execution_count": 44
        }
      ]
    },
    {
      "cell_type": "markdown",
      "source": [
        "## **Separación de datos y entrenamiento del modelo**"
      ],
      "metadata": {
        "id": "2AUm5WaqePpm"
      }
    },
    {
      "cell_type": "markdown",
      "source": [
        "Una vez que tenemos los datos cargados, importamos la función de train_test_split que nos ayuda a separar los datos en un set de entrenamiento y en un set de pruebas.\n",
        "\n",
        "Para definir esto, separamos los datos en x (las variables independientes) y y (las variables dependientes). En este caso, lo que buscamos predecir es la clase de la planta basado en sus características.\n",
        "\n",
        "Depués separamos en dos sets, el de entrenamiento con un 20% de los datos y el de pruebas con un 80% de los datos. La separación la hacemos así para que el modelo no genere overfitting y le cueste un poco más hacer las predicciones."
      ],
      "metadata": {
        "id": "XoFp4LU8gPdG"
      }
    },
    {
      "cell_type": "code",
      "source": [
        "from sklearn.model_selection import train_test_split #importamos la funcion para hacer split de los datos\n",
        "\n",
        "#dividimos en la variable dependiente y las independientes\n",
        "X = df.drop(\"class\", axis=1)\n",
        "y = df[\"class\"]\n",
        "\n",
        "#Otenemos nuestros datos de prueba y de entrenamiento\n",
        "X_train, X_test, y_train, y_test = train_test_split(X, y, test_size=0.8, random_state=42)\n",
        "\n",
        "#Vemos el tamaño de los subsets de datos\n",
        "X_train.shape, X_test.shape"
      ],
      "metadata": {
        "colab": {
          "base_uri": "https://localhost:8080/"
        },
        "id": "tBYW82yzz9hL",
        "outputId": "967f18c9-15e1-47a2-de16-d82217f25907"
      },
      "execution_count": 45,
      "outputs": [
        {
          "output_type": "execute_result",
          "data": {
            "text/plain": [
              "((30, 4), (120, 4))"
            ]
          },
          "metadata": {},
          "execution_count": 45
        }
      ]
    },
    {
      "cell_type": "markdown",
      "source": [
        "Para esta actividad usaremos un decision tree classifier. Lo declaramos y lo entrenamos con el set de datos de train. A continuación se listan los hiperparámetros que se modifican y los valores que se asignan:\n",
        "\n",
        "* criterion: Entropy\n",
        "* max_depth: 4\n",
        "* splitter: random"
      ],
      "metadata": {
        "id": "VDvdcDQogxXx"
      }
    },
    {
      "cell_type": "code",
      "source": [
        "from sklearn.tree import DecisionTreeClassifier\n",
        "\n",
        "# Creamos el objeto de DecisionTreeClassifier\n",
        "tree = DecisionTreeClassifier(criterion=\"entropy\", max_depth=4, splitter=\"random\")\n",
        "\n",
        "# Entrenamos el modelo con los datos\n",
        "tree.fit(X_train, y_train)"
      ],
      "metadata": {
        "colab": {
          "base_uri": "https://localhost:8080/",
          "height": 74
        },
        "id": "82B8jWhFy9xr",
        "outputId": "d0ad76cd-5dc7-4cf6-de14-4953a805e689"
      },
      "execution_count": 46,
      "outputs": [
        {
          "output_type": "execute_result",
          "data": {
            "text/plain": [
              "DecisionTreeClassifier(criterion='entropy', max_depth=4, splitter='random')"
            ],
            "text/html": [
              "<style>#sk-container-id-5 {color: black;background-color: white;}#sk-container-id-5 pre{padding: 0;}#sk-container-id-5 div.sk-toggleable {background-color: white;}#sk-container-id-5 label.sk-toggleable__label {cursor: pointer;display: block;width: 100%;margin-bottom: 0;padding: 0.3em;box-sizing: border-box;text-align: center;}#sk-container-id-5 label.sk-toggleable__label-arrow:before {content: \"▸\";float: left;margin-right: 0.25em;color: #696969;}#sk-container-id-5 label.sk-toggleable__label-arrow:hover:before {color: black;}#sk-container-id-5 div.sk-estimator:hover label.sk-toggleable__label-arrow:before {color: black;}#sk-container-id-5 div.sk-toggleable__content {max-height: 0;max-width: 0;overflow: hidden;text-align: left;background-color: #f0f8ff;}#sk-container-id-5 div.sk-toggleable__content pre {margin: 0.2em;color: black;border-radius: 0.25em;background-color: #f0f8ff;}#sk-container-id-5 input.sk-toggleable__control:checked~div.sk-toggleable__content {max-height: 200px;max-width: 100%;overflow: auto;}#sk-container-id-5 input.sk-toggleable__control:checked~label.sk-toggleable__label-arrow:before {content: \"▾\";}#sk-container-id-5 div.sk-estimator input.sk-toggleable__control:checked~label.sk-toggleable__label {background-color: #d4ebff;}#sk-container-id-5 div.sk-label input.sk-toggleable__control:checked~label.sk-toggleable__label {background-color: #d4ebff;}#sk-container-id-5 input.sk-hidden--visually {border: 0;clip: rect(1px 1px 1px 1px);clip: rect(1px, 1px, 1px, 1px);height: 1px;margin: -1px;overflow: hidden;padding: 0;position: absolute;width: 1px;}#sk-container-id-5 div.sk-estimator {font-family: monospace;background-color: #f0f8ff;border: 1px dotted black;border-radius: 0.25em;box-sizing: border-box;margin-bottom: 0.5em;}#sk-container-id-5 div.sk-estimator:hover {background-color: #d4ebff;}#sk-container-id-5 div.sk-parallel-item::after {content: \"\";width: 100%;border-bottom: 1px solid gray;flex-grow: 1;}#sk-container-id-5 div.sk-label:hover label.sk-toggleable__label {background-color: #d4ebff;}#sk-container-id-5 div.sk-serial::before {content: \"\";position: absolute;border-left: 1px solid gray;box-sizing: border-box;top: 0;bottom: 0;left: 50%;z-index: 0;}#sk-container-id-5 div.sk-serial {display: flex;flex-direction: column;align-items: center;background-color: white;padding-right: 0.2em;padding-left: 0.2em;position: relative;}#sk-container-id-5 div.sk-item {position: relative;z-index: 1;}#sk-container-id-5 div.sk-parallel {display: flex;align-items: stretch;justify-content: center;background-color: white;position: relative;}#sk-container-id-5 div.sk-item::before, #sk-container-id-5 div.sk-parallel-item::before {content: \"\";position: absolute;border-left: 1px solid gray;box-sizing: border-box;top: 0;bottom: 0;left: 50%;z-index: -1;}#sk-container-id-5 div.sk-parallel-item {display: flex;flex-direction: column;z-index: 1;position: relative;background-color: white;}#sk-container-id-5 div.sk-parallel-item:first-child::after {align-self: flex-end;width: 50%;}#sk-container-id-5 div.sk-parallel-item:last-child::after {align-self: flex-start;width: 50%;}#sk-container-id-5 div.sk-parallel-item:only-child::after {width: 0;}#sk-container-id-5 div.sk-dashed-wrapped {border: 1px dashed gray;margin: 0 0.4em 0.5em 0.4em;box-sizing: border-box;padding-bottom: 0.4em;background-color: white;}#sk-container-id-5 div.sk-label label {font-family: monospace;font-weight: bold;display: inline-block;line-height: 1.2em;}#sk-container-id-5 div.sk-label-container {text-align: center;}#sk-container-id-5 div.sk-container {/* jupyter's `normalize.less` sets `[hidden] { display: none; }` but bootstrap.min.css set `[hidden] { display: none !important; }` so we also need the `!important` here to be able to override the default hidden behavior on the sphinx rendered scikit-learn.org. See: https://github.com/scikit-learn/scikit-learn/issues/21755 */display: inline-block !important;position: relative;}#sk-container-id-5 div.sk-text-repr-fallback {display: none;}</style><div id=\"sk-container-id-5\" class=\"sk-top-container\"><div class=\"sk-text-repr-fallback\"><pre>DecisionTreeClassifier(criterion=&#x27;entropy&#x27;, max_depth=4, splitter=&#x27;random&#x27;)</pre><b>In a Jupyter environment, please rerun this cell to show the HTML representation or trust the notebook. <br />On GitHub, the HTML representation is unable to render, please try loading this page with nbviewer.org.</b></div><div class=\"sk-container\" hidden><div class=\"sk-item\"><div class=\"sk-estimator sk-toggleable\"><input class=\"sk-toggleable__control sk-hidden--visually\" id=\"sk-estimator-id-5\" type=\"checkbox\" checked><label for=\"sk-estimator-id-5\" class=\"sk-toggleable__label sk-toggleable__label-arrow\">DecisionTreeClassifier</label><div class=\"sk-toggleable__content\"><pre>DecisionTreeClassifier(criterion=&#x27;entropy&#x27;, max_depth=4, splitter=&#x27;random&#x27;)</pre></div></div></div></div></div>"
            ]
          },
          "metadata": {},
          "execution_count": 46
        }
      ]
    },
    {
      "cell_type": "markdown",
      "source": [
        "## **Métricas para training**"
      ],
      "metadata": {
        "id": "Zu460JsheYlA"
      }
    },
    {
      "cell_type": "markdown",
      "source": [
        "Una vez que esta entrenado, podemos ver que tan bien quedo el modelo. A continuación se muestran los valores de precision, recall, F1 score y accuracy. Se puede ver que tiene un valor de 1, eso quiere decir que los datos de entrenamiento los domina perfectamente."
      ],
      "metadata": {
        "id": "61S_QzE3cg6z"
      }
    },
    {
      "cell_type": "code",
      "source": [
        "from sklearn.metrics import classification_report\n",
        "\n",
        "y_pred = tree.predict(X_train)\n",
        "\n",
        "# Generamos el reporte con las metricas\n",
        "report = classification_report(y_train, y_pred)\n",
        "\n",
        "print(\"Classification Report:\")\n",
        "print(report)"
      ],
      "metadata": {
        "colab": {
          "base_uri": "https://localhost:8080/"
        },
        "id": "oAksmlbxcjV-",
        "outputId": "e819c0ce-8398-45f1-ce27-5ce3d5190821"
      },
      "execution_count": 47,
      "outputs": [
        {
          "output_type": "stream",
          "name": "stdout",
          "text": [
            "Classification Report:\n",
            "                 precision    recall  f1-score   support\n",
            "\n",
            "    Iris-setosa       1.00      1.00      1.00         7\n",
            "Iris-versicolor       1.00      1.00      1.00        11\n",
            " Iris-virginica       1.00      1.00      1.00        12\n",
            "\n",
            "       accuracy                           1.00        30\n",
            "      macro avg       1.00      1.00      1.00        30\n",
            "   weighted avg       1.00      1.00      1.00        30\n",
            "\n"
          ]
        }
      ]
    },
    {
      "cell_type": "markdown",
      "source": [
        "Además, se muestra la matriz de confusión con los resultados esperados y los resultados obtenidos. Como todas las métricas anteriores están en 1, podemos ver en la matriz que todas las predicciones se encuentran bien acomodadas."
      ],
      "metadata": {
        "id": "IAqShxLsg23X"
      }
    },
    {
      "cell_type": "code",
      "source": [
        "from sklearn.metrics import confusion_matrix\n",
        "import seaborn as sns\n",
        "import matplotlib.pyplot as plt\n",
        "\n",
        "# Creamos la matriz de confusion\n",
        "conf_matrix = confusion_matrix(y_train, y_pred)\n",
        "\n",
        "# Mostramos la matriz de confusión en un heat map\n",
        "plt.figure(figsize=(8, 6))\n",
        "sns.heatmap(conf_matrix, annot=True, fmt=\"d\", cmap=\"Blues\")\n",
        "plt.xlabel(\"Predicted\")\n",
        "plt.ylabel(\"Actual\")\n",
        "plt.title(\"Confusion Matrix\")\n",
        "plt.show()"
      ],
      "metadata": {
        "colab": {
          "base_uri": "https://localhost:8080/",
          "height": 564
        },
        "id": "C7AdAbWEco7t",
        "outputId": "e5b4255f-223d-4cee-fddf-945ab36b5096"
      },
      "execution_count": 48,
      "outputs": [
        {
          "output_type": "display_data",
          "data": {
            "text/plain": [
              "<Figure size 800x600 with 2 Axes>"
            ],
            "image/png": "[encoded data removed]"
          },
          "metadata": {}
        }
      ]
    },
    {
      "cell_type": "markdown",
      "source": [
        "Finalmente, mostramos tres registros, donde se ve la predicción esperada y la recibida por el modelo. Esto lo hacemos para confirmar que las predicciones sean correctas."
      ],
      "metadata": {
        "id": "j240wSRXg-xZ"
      }
    },
    {
      "cell_type": "code",
      "source": [
        "# Creamos un dataframe nuevo\n",
        "temp_df = pd.DataFrame(X_train, columns=columns[:-1])\n",
        "temp_df['label'] = y_train\n",
        "# Agregamos las predicciones del modelo\n",
        "temp_df['predicted_label'] = y_pred\n",
        "\n",
        "# Desplegamos una muestra de las predicciones hechas\n",
        "print(temp_df.sample(n=3))"
      ],
      "metadata": {
        "colab": {
          "base_uri": "https://localhost:8080/"
        },
        "id": "4WSKDTXXepgb",
        "outputId": "1b44e3b5-d911-4283-8922-4660e036b047"
      },
      "execution_count": 49,
      "outputs": [
        {
          "output_type": "stream",
          "name": "stdout",
          "text": [
            "    sepal length  sepal width  petal length  petal width            label  \\\n",
            "1            4.9          3.0           1.4          0.2      Iris-setosa   \n",
            "88           5.6          3.0           4.1          1.3  Iris-versicolor   \n",
            "14           5.8          4.0           1.2          0.2      Iris-setosa   \n",
            "\n",
            "    predicted_label  \n",
            "1       Iris-setosa  \n",
            "88  Iris-versicolor  \n",
            "14      Iris-setosa  \n"
          ]
        }
      ]
    },
    {
      "cell_type": "markdown",
      "source": [
        "## **Testing del modelo**"
      ],
      "metadata": {
        "id": "7e14dF7Xh2bt"
      }
    },
    {
      "cell_type": "markdown",
      "source": [
        "Ahora, vamos a probar el modelo con datos que nunca haya visto. Para esto, hacemos predicciones con el set de datos de testing. Podemos comprobar que tan buenos fueron las predicciones del modelo.\n",
        "\n",
        "Se puede ver que tiene una precisión un poco más baja que la de training."
      ],
      "metadata": {
        "id": "w8VidmiFhBOp"
      }
    },
    {
      "cell_type": "code",
      "source": [
        "# Con el modelo entrenado, hacemos predicciones sobre el testing\n",
        "y_pred = tree.predict(X_test)\n",
        "\n",
        "# Evaluamos que tantos resultados nos dio correctamente el modelo\n",
        "from sklearn.metrics import accuracy_score\n",
        "\n",
        "accuracy = accuracy_score(y_test, y_pred)\n",
        "print(f\"Accuracy: {accuracy}\")"
      ],
      "metadata": {
        "colab": {
          "base_uri": "https://localhost:8080/"
        },
        "id": "JhkwrlLU01eL",
        "outputId": "57d8f544-3ecf-48b4-e511-0ad29a0d055f"
      },
      "execution_count": 50,
      "outputs": [
        {
          "output_type": "stream",
          "name": "stdout",
          "text": [
            "Accuracy: 0.925\n"
          ]
        }
      ]
    },
    {
      "cell_type": "markdown",
      "source": [
        "Aún así, el modelo es bastante bueno ya que clasificó correctamente la mayoría de los registros. Veamos otras métricas para el modelo con las preicciones que hizo para testing."
      ],
      "metadata": {
        "id": "cwiewq7zjGTT"
      }
    },
    {
      "cell_type": "code",
      "source": [
        "from sklearn.metrics import classification_report\n",
        "\n",
        "# Generate a classification report\n",
        "report = classification_report(y_test, y_pred)\n",
        "\n",
        "print(\"Classification Report:\")\n",
        "print(report)"
      ],
      "metadata": {
        "colab": {
          "base_uri": "https://localhost:8080/"
        },
        "id": "FUXFpgMlWyS-",
        "outputId": "cceb608a-c5a9-4abc-e2fa-dbd53c331caf"
      },
      "execution_count": 51,
      "outputs": [
        {
          "output_type": "stream",
          "name": "stdout",
          "text": [
            "Classification Report:\n",
            "                 precision    recall  f1-score   support\n",
            "\n",
            "    Iris-setosa       0.98      1.00      0.99        43\n",
            "Iris-versicolor       0.92      0.85      0.88        39\n",
            " Iris-virginica       0.88      0.92      0.90        38\n",
            "\n",
            "       accuracy                           0.93       120\n",
            "      macro avg       0.92      0.92      0.92       120\n",
            "   weighted avg       0.93      0.93      0.92       120\n",
            "\n"
          ]
        }
      ]
    },
    {
      "cell_type": "markdown",
      "source": [
        "Podemos ver que el modelo sigue siendo fuerte ya que tiene buenos números para todas las métricas.\n",
        "\n",
        "El modelo siempre clasifica correctamente la Iris Setosa, pero se confunde entre la Iris Versicolor y la Iris Virginica. A continuaación se muestra cuantas muestras clasificó erroneamente en la matriz de confusión."
      ],
      "metadata": {
        "id": "Tc1aCn5giZ9H"
      }
    },
    {
      "cell_type": "code",
      "source": [
        "# Create a confusion matrix\n",
        "conf_matrix = confusion_matrix(y_test, y_pred)\n",
        "\n",
        "# Display the confusion matrix using a heatmap\n",
        "plt.figure(figsize=(8, 6))\n",
        "sns.heatmap(conf_matrix, annot=True, fmt=\"d\", cmap=\"Blues\")\n",
        "plt.xlabel(\"Predicted\")\n",
        "plt.ylabel(\"Actual\")\n",
        "plt.title(\"Confusion Matrix\")\n",
        "plt.show()"
      ],
      "metadata": {
        "colab": {
          "base_uri": "https://localhost:8080/",
          "height": 564
        },
        "id": "V3jXFnFbXVHX",
        "outputId": "17803959-7d2c-4d79-a2d1-bfc53f683188"
      },
      "execution_count": 52,
      "outputs": [
        {
          "output_type": "display_data",
          "data": {
            "text/plain": [
              "<Figure size 800x600 with 2 Axes>"
            ],
            "image/png": "[encoded data removed]"
          },
          "metadata": {}
        }
      ]
    },
    {
      "cell_type": "markdown",
      "source": [
        "Por último está una pequeña muestra de los datos que clasificó. Esta muestra es aleatoria, por lo que puede parecer que clasificó todo correctamente, pero arriba ya se mostró que no clasifica todo correctamente."
      ],
      "metadata": {
        "id": "FZEiHjFRklfO"
      }
    },
    {
      "cell_type": "code",
      "source": [
        "# Creamos un dataframe nuevo\n",
        "temp_df = pd.DataFrame(X_test, columns=columns[:-1])\n",
        "temp_df['label'] = y_test\n",
        "# Agregamos las predicciones del modelo\n",
        "temp_df['predicted_label'] = y_pred\n",
        "\n",
        "# Desplegamos una muestra de las predicciones hechas\n",
        "print(temp_df.sample(n=3))"
      ],
      "metadata": {
        "colab": {
          "base_uri": "https://localhost:8080/"
        },
        "id": "IrcQOAwbklwz",
        "outputId": "630e34b4-bdb7-4d96-90ad-731e03b4272f"
      },
      "execution_count": 57,
      "outputs": [
        {
          "output_type": "stream",
          "name": "stdout",
          "text": [
            "     sepal length  sepal width  petal length  petal width            label  \\\n",
            "119           6.0          2.2           5.0          1.5   Iris-virginica   \n",
            "2             4.7          3.2           1.3          0.2      Iris-setosa   \n",
            "63            6.1          2.9           4.7          1.4  Iris-versicolor   \n",
            "\n",
            "     predicted_label  \n",
            "119  Iris-versicolor  \n",
            "2        Iris-setosa  \n",
            "63   Iris-versicolor  \n"
          ]
        }
      ]
    },
    {
      "cell_type": "markdown",
      "source": [
        "## **Otros datos del modelo**"
      ],
      "metadata": {
        "id": "h0U4yRc1lGG5"
      }
    },
    {
      "cell_type": "markdown",
      "source": [
        "Finalmente, podemos ver el modelo gráficamente para ver las decisiones que toma y que tan profundo es."
      ],
      "metadata": {
        "id": "wi0St_EyjS-c"
      }
    },
    {
      "cell_type": "code",
      "source": [
        "#Graficamos el arbol para ver las decisiones que toma\n",
        "\n",
        "from sklearn.tree import plot_tree\n",
        "plot_tree(tree)"
      ],
      "metadata": {
        "colab": {
          "base_uri": "https://localhost:8080/",
          "height": 597
        },
        "id": "pHgHnibv1-aI",
        "outputId": "0052f1b7-e4ec-4e6b-9312-a287c70bcd79"
      },
      "execution_count": 54,
      "outputs": [
        {
          "output_type": "execute_result",
          "data": {
            "text/plain": [
              "[Text(0.5, 0.9, 'x[3] <= 1.43\\nentropy = 1.549\\nsamples = 30\\nvalue = [7, 11, 12]'),\n",
              " Text(0.25, 0.7, 'x[2] <= 3.24\\nentropy = 0.977\\nsamples = 17\\nvalue = [7, 10, 0]'),\n",
              " Text(0.125, 0.5, 'entropy = 0.0\\nsamples = 7\\nvalue = [7, 0, 0]'),\n",
              " Text(0.375, 0.5, 'entropy = 0.0\\nsamples = 10\\nvalue = [0, 10, 0]'),\n",
              " Text(0.75, 0.7, 'x[3] <= 1.799\\nentropy = 0.391\\nsamples = 13\\nvalue = [0, 1, 12]'),\n",
              " Text(0.625, 0.5, 'x[3] <= 1.659\\nentropy = 0.918\\nsamples = 3\\nvalue = [0, 1, 2]'),\n",
              " Text(0.5, 0.3, 'x[3] <= 1.581\\nentropy = 1.0\\nsamples = 2\\nvalue = [0, 1, 1]'),\n",
              " Text(0.375, 0.1, 'entropy = 0.0\\nsamples = 1\\nvalue = [0, 1, 0]'),\n",
              " Text(0.625, 0.1, 'entropy = 0.0\\nsamples = 1\\nvalue = [0, 0, 1]'),\n",
              " Text(0.75, 0.3, 'entropy = 0.0\\nsamples = 1\\nvalue = [0, 0, 1]'),\n",
              " Text(0.875, 0.5, 'entropy = 0.0\\nsamples = 10\\nvalue = [0, 0, 10]')]"
            ]
          },
          "metadata": {},
          "execution_count": 54
        },
        {
          "output_type": "display_data",
          "data": {
            "text/plain": [
              "<Figure size 640x480 with 1 Axes>"
            ],
            "image/png": "[encoded data removed]"
          },
          "metadata": {}
        }
      ]
    }
  ]
}