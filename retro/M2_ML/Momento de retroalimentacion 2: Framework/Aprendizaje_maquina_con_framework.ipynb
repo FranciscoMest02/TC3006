{
  "nbformat": 4,
  "nbformat_minor": 0,
  "metadata": {
    "colab": {
      "provenance": []
    },
    "kernelspec": {
      "name": "python3",
      "display_name": "Python 3"
    },
    "language_info": {
      "name": "python"
    }
  },
  "cells": [
    {
      "cell_type": "markdown",
      "source": [
        "# **Aprendizaje máquina sin el uso de frameworks**"
      ],
      "metadata": {
        "id": "fa7LuBP1epg5"
      }
    },
    {
      "cell_type": "markdown",
      "source": [
        "Francisco Mestizo Hernández A01731549"
      ],
      "metadata": {
        "id": "WunGNGklesec"
      }
    },
    {
      "cell_type": "markdown",
      "source": [
        "## **Instrucciones**"
      ],
      "metadata": {
        "id": "JwGH_Sq9evJM"
      }
    },
    {
      "cell_type": "markdown",
      "source": [
        "Entregable: Uso de framework o biblioteca de aprendizaje máquina para la implementación de una solución.\n",
        "\n",
        "* Crea un repositorio de GitHub para este proyecto.\n",
        "* Programa uno de los algoritmos vistos en el módulo (o que tu profesor de módulo autorice) haciendo uso de una biblioteca o framework de aprendizaje máquina. Lo que se busca es que demuestres tu conocimiento sobre el framework y como configurar el algoritmo.\n",
        "* Prueba tu implementación con un set de datos y realiza algunas predicciones. Las predicciones las puedes correr en consola o las puedes implementar con una interfaz gráfica apoyándote en los visto en otros módulos.\n",
        "* Después de la entrega intermedia se te darán correcciones que puedes incluir en tu entrega final."
      ],
      "metadata": {
        "id": "hTIxaHm3exUk"
      }
    },
    {
      "cell_type": "markdown",
      "source": [
        "## **Desarrollo del modelo**"
      ],
      "metadata": {
        "id": "knni3359gAn0"
      }
    },
    {
      "cell_type": "markdown",
      "source": [
        "\n",
        "En términos generales, debemos seguir los siguientes pasos:\n",
        "1. Importar módulos\n",
        "2. Cargar datos\n",
        "3. Separar datos en subconjuntos\n",
        "4. Entrenar el modelo\n",
        "5. Analizar su desempeño\n",
        "6. Usar el modelo para nuevas estimaciones (datos no vistos)\n"
      ],
      "metadata": {
        "id": "TmbsZm8laJv5"
      }
    },
    {
      "cell_type": "markdown",
      "source": [
        "Primero, comenzamos cargando el set de datos que utilizaremos para el modelo. En este caso serán los datos de **iris**. Este set de datos se puede encontrar en este link:\n",
        "\n",
        "link\n",
        "\n",
        "El set de datos consta de 150 registros, para tres clases diferentes de iris:\n",
        "* Iris setosa\n",
        "* Iris versicolor\n",
        "* Iris virginica\n",
        "\n",
        "Las variables independientes son el sepal length, sepal width, petal length, pedal width. Todas estas variables son numéricas y estan medidas en centímetros.\n",
        "\n",
        "Debido a que en el set de datos se listan tres clases, entonces el problema que resolveremos será de clasificación de esas clases dependiendo de las caracteristicas de las plantas."
      ],
      "metadata": {
        "id": "HiBZxO6ggHIl"
      }
    },
    {
      "cell_type": "code",
      "source": [
        "#Cargamos los archivos\n",
        "from google.colab import drive  # importa libreria\n",
        "drive.mount(\"/content/gdrive\")  # utiliza comando\n",
        "\n",
        "!pwd\n",
        "\n",
        "#put your own path in google drive\n",
        "%cd '/content/gdrive/MyDrive/Tec/ColabAI/iris/'\n",
        "!ls\n",
        "\n",
        "import pandas as pd # importar libreria\n",
        "\n",
        "columns = [\"sepal length\",\"sepal width\",\"petal length\",\"petal width\", \"class\"] # definir nombres de columna manualmente\n",
        "df = pd.read_csv('iris.data', names=columns) # abrir el archivo de datos con los nombres dados para las columnas\n",
        "df.head() # mostrar las primeras líneas del dataset que se cargó"
      ],
      "metadata": {
        "colab": {
          "base_uri": "https://localhost:8080/",
          "height": 275
        },
        "id": "IVWDE8VryhCR",
        "outputId": "a6a6431a-c0e8-4e8b-dacd-40bd542b9861"
      },
      "execution_count": null,
      "outputs": [
        {
          "output_type": "stream",
          "name": "stdout",
          "text": [
            "Drive already mounted at /content/gdrive; to attempt to forcibly remount, call drive.mount(\"/content/gdrive\", force_remount=True).\n",
            "/content/gdrive/My Drive/Tec/ColabAI/iris\n",
            "/content/gdrive/MyDrive/Tec/ColabAI/iris\n",
            "iris.data  iris.names\n"
          ]
        },
        {
          "output_type": "execute_result",
          "data": {
            "text/plain": [
              "   sepal length  sepal width  petal length  petal width        class\n",
              "0           5.1          3.5           1.4          0.2  Iris-setosa\n",
              "1           4.9          3.0           1.4          0.2  Iris-setosa\n",
              "2           4.7          3.2           1.3          0.2  Iris-setosa\n",
              "3           4.6          3.1           1.5          0.2  Iris-setosa\n",
              "4           5.0          3.6           1.4          0.2  Iris-setosa"
            ],
            "text/html": [
              "\n",
              "  <div id=\"df-afded4d4-156d-469c-983b-e11ecbcd1852\" class=\"colab-df-container\">\n",
              "    <div>\n",
              "<style scoped>\n",
              "    .dataframe tbody tr th:only-of-type {\n",
              "        vertical-align: middle;\n",
              "    }\n",
              "\n",
              "    .dataframe tbody tr th {\n",
              "        vertical-align: top;\n",
              "    }\n",
              "\n",
              "    .dataframe thead th {\n",
              "        text-align: right;\n",
              "    }\n",
              "</style>\n",
              "<table border=\"1\" class=\"dataframe\">\n",
              "  <thead>\n",
              "    <tr style=\"text-align: right;\">\n",
              "      <th></th>\n",
              "      <th>sepal length</th>\n",
              "      <th>sepal width</th>\n",
              "      <th>petal length</th>\n",
              "      <th>petal width</th>\n",
              "      <th>class</th>\n",
              "    </tr>\n",
              "  </thead>\n",
              "  <tbody>\n",
              "    <tr>\n",
              "      <th>0</th>\n",
              "      <td>5.1</td>\n",
              "      <td>3.5</td>\n",
              "      <td>1.4</td>\n",
              "      <td>0.2</td>\n",
              "      <td>Iris-setosa</td>\n",
              "    </tr>\n",
              "    <tr>\n",
              "      <th>1</th>\n",
              "      <td>4.9</td>\n",
              "      <td>3.0</td>\n",
              "      <td>1.4</td>\n",
              "      <td>0.2</td>\n",
              "      <td>Iris-setosa</td>\n",
              "    </tr>\n",
              "    <tr>\n",
              "      <th>2</th>\n",
              "      <td>4.7</td>\n",
              "      <td>3.2</td>\n",
              "      <td>1.3</td>\n",
              "      <td>0.2</td>\n",
              "      <td>Iris-setosa</td>\n",
              "    </tr>\n",
              "    <tr>\n",
              "      <th>3</th>\n",
              "      <td>4.6</td>\n",
              "      <td>3.1</td>\n",
              "      <td>1.5</td>\n",
              "      <td>0.2</td>\n",
              "      <td>Iris-setosa</td>\n",
              "    </tr>\n",
              "    <tr>\n",
              "      <th>4</th>\n",
              "      <td>5.0</td>\n",
              "      <td>3.6</td>\n",
              "      <td>1.4</td>\n",
              "      <td>0.2</td>\n",
              "      <td>Iris-setosa</td>\n",
              "    </tr>\n",
              "  </tbody>\n",
              "</table>\n",
              "</div>\n",
              "    <div class=\"colab-df-buttons\">\n",
              "\n",
              "  <div class=\"colab-df-container\">\n",
              "    <button class=\"colab-df-convert\" onclick=\"convertToInteractive('df-afded4d4-156d-469c-983b-e11ecbcd1852')\"\n",
              "            title=\"Convert this dataframe to an interactive table.\"\n",
              "            style=\"display:none;\">\n",
              "\n",
              "  <svg xmlns=\"http://www.w3.org/2000/svg\" height=\"24px\" viewBox=\"0 -960 960 960\">\n",
              "    <path d=\"M120-120v-720h720v720H120Zm60-500h600v-160H180v160Zm220 220h160v-160H400v160Zm0 220h160v-160H400v160ZM180-400h160v-160H180v160Zm440 0h160v-160H620v160ZM180-180h160v-160H180v160Zm440 0h160v-160H620v160Z\"/>\n",
              "  </svg>\n",
              "    </button>\n",
              "\n",
              "  <style>\n",
              "    .colab-df-container {\n",
              "      display:flex;\n",
              "      gap: 12px;\n",
              "    }\n",
              "\n",
              "    .colab-df-convert {\n",
              "      background-color: #E8F0FE;\n",
              "      border: none;\n",
              "      border-radius: 50%;\n",
              "      cursor: pointer;\n",
              "      display: none;\n",
              "      fill: #1967D2;\n",
              "      height: 32px;\n",
              "      padding: 0 0 0 0;\n",
              "      width: 32px;\n",
              "    }\n",
              "\n",
              "    .colab-df-convert:hover {\n",
              "      background-color: #E2EBFA;\n",
              "      box-shadow: 0px 1px 2px rgba(60, 64, 67, 0.3), 0px 1px 3px 1px rgba(60, 64, 67, 0.15);\n",
              "      fill: #174EA6;\n",
              "    }\n",
              "\n",
              "    .colab-df-buttons div {\n",
              "      margin-bottom: 4px;\n",
              "    }\n",
              "\n",
              "    [theme=dark] .colab-df-convert {\n",
              "      background-color: #3B4455;\n",
              "      fill: #D2E3FC;\n",
              "    }\n",
              "\n",
              "    [theme=dark] .colab-df-convert:hover {\n",
              "      background-color: #434B5C;\n",
              "      box-shadow: 0px 1px 3px 1px rgba(0, 0, 0, 0.15);\n",
              "      filter: drop-shadow(0px 1px 2px rgba(0, 0, 0, 0.3));\n",
              "      fill: #FFFFFF;\n",
              "    }\n",
              "  </style>\n",
              "\n",
              "    <script>\n",
              "      const buttonEl =\n",
              "        document.querySelector('#df-afded4d4-156d-469c-983b-e11ecbcd1852 button.colab-df-convert');\n",
              "      buttonEl.style.display =\n",
              "        google.colab.kernel.accessAllowed ? 'block' : 'none';\n",
              "\n",
              "      async function convertToInteractive(key) {\n",
              "        const element = document.querySelector('#df-afded4d4-156d-469c-983b-e11ecbcd1852');\n",
              "        const dataTable =\n",
              "          await google.colab.kernel.invokeFunction('convertToInteractive',\n",
              "                                                    [key], {});\n",
              "        if (!dataTable) return;\n",
              "\n",
              "        const docLinkHtml = 'Like what you see? Visit the ' +\n",
              "          '<a target=\"_blank\" href=https://colab.research.google.com/notebooks/data_table.ipynb>data table notebook</a>'\n",
              "          + ' to learn more about interactive tables.';\n",
              "        element.innerHTML = '';\n",
              "        dataTable['output_type'] = 'display_data';\n",
              "        await google.colab.output.renderOutput(dataTable, element);\n",
              "        const docLink = document.createElement('div');\n",
              "        docLink.innerHTML = docLinkHtml;\n",
              "        element.appendChild(docLink);\n",
              "      }\n",
              "    </script>\n",
              "  </div>\n",
              "\n",
              "\n",
              "<div id=\"df-e9de0416-b0cb-44e1-96e0-57fdd0521246\">\n",
              "  <button class=\"colab-df-quickchart\" onclick=\"quickchart('df-e9de0416-b0cb-44e1-96e0-57fdd0521246')\"\n",
              "            title=\"Suggest charts.\"\n",
              "            style=\"display:none;\">\n",
              "\n",
              "<svg xmlns=\"http://www.w3.org/2000/svg\" height=\"24px\"viewBox=\"0 0 24 24\"\n",
              "     width=\"24px\">\n",
              "    <g>\n",
              "        <path d=\"M19 3H5c-1.1 0-2 .9-2 2v14c0 1.1.9 2 2 2h14c1.1 0 2-.9 2-2V5c0-1.1-.9-2-2-2zM9 17H7v-7h2v7zm4 0h-2V7h2v10zm4 0h-2v-4h2v4z\"/>\n",
              "    </g>\n",
              "</svg>\n",
              "  </button>\n",
              "\n",
              "<style>\n",
              "  .colab-df-quickchart {\n",
              "    background-color: #E8F0FE;\n",
              "    border: none;\n",
              "    border-radius: 50%;\n",
              "    cursor: pointer;\n",
              "    display: none;\n",
              "    fill: #1967D2;\n",
              "    height: 32px;\n",
              "    padding: 0 0 0 0;\n",
              "    width: 32px;\n",
              "  }\n",
              "\n",
              "  .colab-df-quickchart:hover {\n",
              "    background-color: #E2EBFA;\n",
              "    box-shadow: 0px 1px 2px rgba(60, 64, 67, 0.3), 0px 1px 3px 1px rgba(60, 64, 67, 0.15);\n",
              "    fill: #174EA6;\n",
              "  }\n",
              "\n",
              "  [theme=dark] .colab-df-quickchart {\n",
              "    background-color: #3B4455;\n",
              "    fill: #D2E3FC;\n",
              "  }\n",
              "\n",
              "  [theme=dark] .colab-df-quickchart:hover {\n",
              "    background-color: #434B5C;\n",
              "    box-shadow: 0px 1px 3px 1px rgba(0, 0, 0, 0.15);\n",
              "    filter: drop-shadow(0px 1px 2px rgba(0, 0, 0, 0.3));\n",
              "    fill: #FFFFFF;\n",
              "  }\n",
              "</style>\n",
              "\n",
              "  <script>\n",
              "    async function quickchart(key) {\n",
              "      const charts = await google.colab.kernel.invokeFunction(\n",
              "          'suggestCharts', [key], {});\n",
              "    }\n",
              "    (() => {\n",
              "      let quickchartButtonEl =\n",
              "        document.querySelector('#df-e9de0416-b0cb-44e1-96e0-57fdd0521246 button');\n",
              "      quickchartButtonEl.style.display =\n",
              "        google.colab.kernel.accessAllowed ? 'block' : 'none';\n",
              "    })();\n",
              "  </script>\n",
              "</div>\n",
              "    </div>\n",
              "  </div>\n"
            ]
          },
          "metadata": {},
          "execution_count": 19
        }
      ]
    },
    {
      "cell_type": "markdown",
      "source": [
        "Una vez que tenemos los datos cargados, importamos la función de train_test_split que nos ayuda a separar los datos en un set de entrenamiento y en un set de pruebas.\n",
        "\n",
        "Para definir esto, separamos los datos en x (las variables independientes) y y (las variables dependientes). En este caso, lo que buscamos predecir es la clase de la planta basado en sus características.\n",
        "\n",
        "Depués separamos en dos sets, el de entrenamiento con un 80% de los datos y el de pruebas con un 20% de los datos"
      ],
      "metadata": {
        "id": "XoFp4LU8gPdG"
      }
    },
    {
      "cell_type": "code",
      "source": [
        "from sklearn.model_selection import train_test_split #importamos la funcion para hacer split de los datos\n",
        "\n",
        "#dividimos en la variable dependiente y las independientes\n",
        "X = df.drop(\"class\", axis=1)\n",
        "y = df[\"class\"]\n",
        "\n",
        "#Otenemos nuestros datos de prueba y de entrenamiento\n",
        "X_train, X_test, y_train, y_test = train_test_split(X, y, test_size=0.2, random_state=42)\n",
        "\n",
        "#Vemos el tamaño de los subsets de datos\n",
        "X_train.shape, X_test.shape"
      ],
      "metadata": {
        "colab": {
          "base_uri": "https://localhost:8080/"
        },
        "id": "tBYW82yzz9hL",
        "outputId": "3b0a6bd7-76b1-4daa-8220-d5bd5717464c"
      },
      "execution_count": null,
      "outputs": [
        {
          "output_type": "execute_result",
          "data": {
            "text/plain": [
              "((120, 4), (30, 4))"
            ]
          },
          "metadata": {},
          "execution_count": 20
        }
      ]
    },
    {
      "cell_type": "markdown",
      "source": [
        "Para esta actividad usaremos un decision tree classifier. Lo declaramos y lo entrenamos con el set de datos de train."
      ],
      "metadata": {
        "id": "VDvdcDQogxXx"
      }
    },
    {
      "cell_type": "code",
      "source": [
        "from sklearn.tree import DecisionTreeClassifier\n",
        "\n",
        "# Creamos el objeto de DecisionTreeClassifier\n",
        "tree = DecisionTreeClassifier(criterion=\"entropy\")\n",
        "\n",
        "# Entrenamos el modelo con los datos\n",
        "tree.fit(X_train, y_train)"
      ],
      "metadata": {
        "colab": {
          "base_uri": "https://localhost:8080/",
          "height": 74
        },
        "id": "82B8jWhFy9xr",
        "outputId": "9fbdec63-339c-44d3-b190-39094ef6c6db"
      },
      "execution_count": null,
      "outputs": [
        {
          "output_type": "execute_result",
          "data": {
            "text/plain": [
              "DecisionTreeClassifier(criterion='entropy')"
            ],
            "text/html": [
              "<style>#sk-container-id-4 {color: black;background-color: white;}#sk-container-id-4 pre{padding: 0;}#sk-container-id-4 div.sk-toggleable {background-color: white;}#sk-container-id-4 label.sk-toggleable__label {cursor: pointer;display: block;width: 100%;margin-bottom: 0;padding: 0.3em;box-sizing: border-box;text-align: center;}#sk-container-id-4 label.sk-toggleable__label-arrow:before {content: \"▸\";float: left;margin-right: 0.25em;color: #696969;}#sk-container-id-4 label.sk-toggleable__label-arrow:hover:before {color: black;}#sk-container-id-4 div.sk-estimator:hover label.sk-toggleable__label-arrow:before {color: black;}#sk-container-id-4 div.sk-toggleable__content {max-height: 0;max-width: 0;overflow: hidden;text-align: left;background-color: #f0f8ff;}#sk-container-id-4 div.sk-toggleable__content pre {margin: 0.2em;color: black;border-radius: 0.25em;background-color: #f0f8ff;}#sk-container-id-4 input.sk-toggleable__control:checked~div.sk-toggleable__content {max-height: 200px;max-width: 100%;overflow: auto;}#sk-container-id-4 input.sk-toggleable__control:checked~label.sk-toggleable__label-arrow:before {content: \"▾\";}#sk-container-id-4 div.sk-estimator input.sk-toggleable__control:checked~label.sk-toggleable__label {background-color: #d4ebff;}#sk-container-id-4 div.sk-label input.sk-toggleable__control:checked~label.sk-toggleable__label {background-color: #d4ebff;}#sk-container-id-4 input.sk-hidden--visually {border: 0;clip: rect(1px 1px 1px 1px);clip: rect(1px, 1px, 1px, 1px);height: 1px;margin: -1px;overflow: hidden;padding: 0;position: absolute;width: 1px;}#sk-container-id-4 div.sk-estimator {font-family: monospace;background-color: #f0f8ff;border: 1px dotted black;border-radius: 0.25em;box-sizing: border-box;margin-bottom: 0.5em;}#sk-container-id-4 div.sk-estimator:hover {background-color: #d4ebff;}#sk-container-id-4 div.sk-parallel-item::after {content: \"\";width: 100%;border-bottom: 1px solid gray;flex-grow: 1;}#sk-container-id-4 div.sk-label:hover label.sk-toggleable__label {background-color: #d4ebff;}#sk-container-id-4 div.sk-serial::before {content: \"\";position: absolute;border-left: 1px solid gray;box-sizing: border-box;top: 0;bottom: 0;left: 50%;z-index: 0;}#sk-container-id-4 div.sk-serial {display: flex;flex-direction: column;align-items: center;background-color: white;padding-right: 0.2em;padding-left: 0.2em;position: relative;}#sk-container-id-4 div.sk-item {position: relative;z-index: 1;}#sk-container-id-4 div.sk-parallel {display: flex;align-items: stretch;justify-content: center;background-color: white;position: relative;}#sk-container-id-4 div.sk-item::before, #sk-container-id-4 div.sk-parallel-item::before {content: \"\";position: absolute;border-left: 1px solid gray;box-sizing: border-box;top: 0;bottom: 0;left: 50%;z-index: -1;}#sk-container-id-4 div.sk-parallel-item {display: flex;flex-direction: column;z-index: 1;position: relative;background-color: white;}#sk-container-id-4 div.sk-parallel-item:first-child::after {align-self: flex-end;width: 50%;}#sk-container-id-4 div.sk-parallel-item:last-child::after {align-self: flex-start;width: 50%;}#sk-container-id-4 div.sk-parallel-item:only-child::after {width: 0;}#sk-container-id-4 div.sk-dashed-wrapped {border: 1px dashed gray;margin: 0 0.4em 0.5em 0.4em;box-sizing: border-box;padding-bottom: 0.4em;background-color: white;}#sk-container-id-4 div.sk-label label {font-family: monospace;font-weight: bold;display: inline-block;line-height: 1.2em;}#sk-container-id-4 div.sk-label-container {text-align: center;}#sk-container-id-4 div.sk-container {/* jupyter's `normalize.less` sets `[hidden] { display: none; }` but bootstrap.min.css set `[hidden] { display: none !important; }` so we also need the `!important` here to be able to override the default hidden behavior on the sphinx rendered scikit-learn.org. See: https://github.com/scikit-learn/scikit-learn/issues/21755 */display: inline-block !important;position: relative;}#sk-container-id-4 div.sk-text-repr-fallback {display: none;}</style><div id=\"sk-container-id-4\" class=\"sk-top-container\"><div class=\"sk-text-repr-fallback\"><pre>DecisionTreeClassifier(criterion=&#x27;entropy&#x27;)</pre><b>In a Jupyter environment, please rerun this cell to show the HTML representation or trust the notebook. <br />On GitHub, the HTML representation is unable to render, please try loading this page with nbviewer.org.</b></div><div class=\"sk-container\" hidden><div class=\"sk-item\"><div class=\"sk-estimator sk-toggleable\"><input class=\"sk-toggleable__control sk-hidden--visually\" id=\"sk-estimator-id-4\" type=\"checkbox\" checked><label for=\"sk-estimator-id-4\" class=\"sk-toggleable__label sk-toggleable__label-arrow\">DecisionTreeClassifier</label><div class=\"sk-toggleable__content\"><pre>DecisionTreeClassifier(criterion=&#x27;entropy&#x27;)</pre></div></div></div></div></div>"
            ]
          },
          "metadata": {},
          "execution_count": 21
        }
      ]
    },
    {
      "cell_type": "markdown",
      "source": [
        "Para ver los resultados que obtenemos con el modelo, hacemos predicciones con el set de datos de testing. Podemos comprobar que tan buenos fueron las predicciones del modelo."
      ],
      "metadata": {
        "id": "w8VidmiFhBOp"
      }
    },
    {
      "cell_type": "code",
      "source": [
        "# Con el modelo entrenado, hacemos predicciones sobre el testing\n",
        "y_pred = tree.predict(X_test)\n",
        "\n",
        "# Evaluamos que tantos resultados nos dio correctamente el modelo\n",
        "from sklearn.metrics import accuracy_score\n",
        "\n",
        "accuracy = accuracy_score(y_test, y_pred)\n",
        "print(f\"Accuracy: {accuracy}\")"
      ],
      "metadata": {
        "colab": {
          "base_uri": "https://localhost:8080/"
        },
        "id": "JhkwrlLU01eL",
        "outputId": "af88fa91-7b9d-461d-a159-e8848cf66dc8"
      },
      "execution_count": null,
      "outputs": [
        {
          "output_type": "stream",
          "name": "stdout",
          "text": [
            "Accuracy: 1.0\n"
          ]
        }
      ]
    },
    {
      "cell_type": "markdown",
      "source": [
        "A primera instancia parece que el modelo es bastante bueno ya que clasificó perfectamente todos los datos de prueba."
      ],
      "metadata": {
        "id": "cwiewq7zjGTT"
      }
    },
    {
      "cell_type": "markdown",
      "source": [
        "Finalmente, podemos ver el modelo gráficamente para ver las decisiones que toma y que tan profundo es."
      ],
      "metadata": {
        "id": "wi0St_EyjS-c"
      }
    },
    {
      "cell_type": "code",
      "source": [
        "#Graficamos el arbol para ver las decisiones que toma\n",
        "\n",
        "from sklearn.tree import plot_tree\n",
        "plot_tree(tree)"
      ],
      "metadata": {
        "colab": {
          "base_uri": "https://localhost:8080/",
          "height": 736
        },
        "id": "pHgHnibv1-aI",
        "outputId": "6e0ddd4b-99b3-482c-8595-27e926b7274e"
      },
      "execution_count": null,
      "outputs": [
        {
          "output_type": "execute_result",
          "data": {
            "text/plain": [
              "[Text(0.3076923076923077, 0.9285714285714286, 'x[3] <= 0.8\\nentropy = 1.585\\nsamples = 120\\nvalue = [40, 41, 39]'),\n",
              " Text(0.23076923076923078, 0.7857142857142857, 'entropy = 0.0\\nsamples = 40\\nvalue = [40, 0, 0]'),\n",
              " Text(0.38461538461538464, 0.7857142857142857, 'x[2] <= 4.75\\nentropy = 1.0\\nsamples = 80\\nvalue = [0, 41, 39]'),\n",
              " Text(0.15384615384615385, 0.6428571428571429, 'x[3] <= 1.65\\nentropy = 0.179\\nsamples = 37\\nvalue = [0, 36, 1]'),\n",
              " Text(0.07692307692307693, 0.5, 'entropy = 0.0\\nsamples = 36\\nvalue = [0, 36, 0]'),\n",
              " Text(0.23076923076923078, 0.5, 'entropy = 0.0\\nsamples = 1\\nvalue = [0, 0, 1]'),\n",
              " Text(0.6153846153846154, 0.6428571428571429, 'x[3] <= 1.75\\nentropy = 0.519\\nsamples = 43\\nvalue = [0, 5, 38]'),\n",
              " Text(0.38461538461538464, 0.5, 'x[2] <= 4.95\\nentropy = 1.0\\nsamples = 8\\nvalue = [0, 4, 4]'),\n",
              " Text(0.3076923076923077, 0.35714285714285715, 'entropy = 0.0\\nsamples = 2\\nvalue = [0, 2, 0]'),\n",
              " Text(0.46153846153846156, 0.35714285714285715, 'x[3] <= 1.55\\nentropy = 0.918\\nsamples = 6\\nvalue = [0, 2, 4]'),\n",
              " Text(0.38461538461538464, 0.21428571428571427, 'entropy = 0.0\\nsamples = 3\\nvalue = [0, 0, 3]'),\n",
              " Text(0.5384615384615384, 0.21428571428571427, 'x[0] <= 6.95\\nentropy = 0.918\\nsamples = 3\\nvalue = [0, 2, 1]'),\n",
              " Text(0.46153846153846156, 0.07142857142857142, 'entropy = 0.0\\nsamples = 2\\nvalue = [0, 2, 0]'),\n",
              " Text(0.6153846153846154, 0.07142857142857142, 'entropy = 0.0\\nsamples = 1\\nvalue = [0, 0, 1]'),\n",
              " Text(0.8461538461538461, 0.5, 'x[2] <= 4.85\\nentropy = 0.187\\nsamples = 35\\nvalue = [0, 1, 34]'),\n",
              " Text(0.7692307692307693, 0.35714285714285715, 'x[0] <= 5.95\\nentropy = 0.918\\nsamples = 3\\nvalue = [0, 1, 2]'),\n",
              " Text(0.6923076923076923, 0.21428571428571427, 'entropy = 0.0\\nsamples = 1\\nvalue = [0, 1, 0]'),\n",
              " Text(0.8461538461538461, 0.21428571428571427, 'entropy = 0.0\\nsamples = 2\\nvalue = [0, 0, 2]'),\n",
              " Text(0.9230769230769231, 0.35714285714285715, 'entropy = 0.0\\nsamples = 32\\nvalue = [0, 0, 32]')]"
            ]
          },
          "metadata": {},
          "execution_count": 23
        },
        {
          "output_type": "display_data",
          "data": {
            "text/plain": [
              "<Figure size 640x480 with 1 Axes>"
            ],
            "image/png": "[encoded data removed]"
          },
          "metadata": {}
        }
      ]
    }
  ]
}