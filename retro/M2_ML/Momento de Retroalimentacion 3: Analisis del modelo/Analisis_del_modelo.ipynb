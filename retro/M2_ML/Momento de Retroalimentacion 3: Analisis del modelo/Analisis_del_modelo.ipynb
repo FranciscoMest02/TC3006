{
  "nbformat": 4,
  "nbformat_minor": 0,
  "metadata": {
    "colab": {
      "provenance": []
    },
    "kernelspec": {
      "name": "python3",
      "display_name": "Python 3"
    },
    "language_info": {
      "name": "python"
    }
  },
  "cells": [
    {
      "cell_type": "markdown",
      "source": [
        "# **Análisis y Reporte sobre el desempeño del modelo**"
      ],
      "metadata": {
        "id": "xu0Y7IooCvoJ"
      }
    },
    {
      "cell_type": "markdown",
      "source": [
        "Francisco Mestizo Hernández A01731549"
      ],
      "metadata": {
        "id": "1fbadM5mCyeV"
      }
    },
    {
      "cell_type": "markdown",
      "source": [
        "## **Instrucciones**"
      ],
      "metadata": {
        "id": "Mg74P1ASDHwo"
      }
    },
    {
      "cell_type": "markdown",
      "source": [
        "Escoge una de las 2 implementaciones que tengas y genera un análisis sobre su desempeño en un set de datos. Este análisis lo deberás documentar en un reporte con indicadores claros y gráficas comparativas que respalden tu análisis.\n",
        "\n",
        "El análisis debe de contener los siguientes elementos:\n",
        "* Separación y evaluación del modelo con un conjunto de prueba y un conjunto de validación (Train/Test/Validation).\n",
        "* Diagnóstico y explicación el grado de bias o sesgo: bajo medio alto\n",
        "* Diagnóstico y explicación el grado de varianza: bajo medio alto\n",
        "* Diagnóstico y explicación el nivel de ajuste del modelo: underfitt fitt overfitt\n",
        "\n",
        "Basándote en lo encontrado en tu análisis utiliza técnicas de regularización o ajuste de parámetros para mejorar el desempeño de tu modelo y documenta en tu reporte cómo mejoró este."
      ],
      "metadata": {
        "id": "NRQ7Y6w2C7zH"
      }
    },
    {
      "cell_type": "markdown",
      "source": [
        "## **Set de datos**"
      ],
      "metadata": {
        "id": "JZgoRObwDQvs"
      }
    },
    {
      "cell_type": "markdown",
      "source": [
        "Primero, comenzamos cargando el set de datos que utilizaremos para el modelo.\n",
        "\n",
        "En este caso serán los datos de **iris**. Este set de datos se puede encontrar en este link:\n",
        "\n",
        "https://github.com/FranciscoMest02/TC3006/tree/main/retro/M2_ML/Momento%20de%20Retroalimentacion%203%3A%20Analisis%20del%20modelo/data\n",
        "\n",
        "El set de datos consta de 150 registros, para tres clases diferentes de iris:\n",
        "* Iris setosa\n",
        "* Iris versicolor\n",
        "* Iris virginica\n",
        "\n",
        "Las variables independientes son el sepal length, sepal width, petal length, pedal width. Todas estas variables son numéricas y estan medidas en centímetros.\n",
        "\n",
        "Debido a que en el set de datos se listan tres clases, entonces el problema que resolveremos será de clasificación de esas clases dependiendo de las caracteristicas de las plantas."
      ],
      "metadata": {
        "id": "IT5QG2WTDTox"
      }
    },
    {
      "cell_type": "markdown",
      "source": [
        "Comenzamos cargando los datos y haciendo la separación de estos en 20% para training, 40% para validation y 40% para testing."
      ],
      "metadata": {
        "id": "y44TRcnuDbgF"
      }
    },
    {
      "cell_type": "code",
      "execution_count": null,
      "metadata": {
        "colab": {
          "base_uri": "https://localhost:8080/",
          "height": 275
        },
        "id": "jaUJdBKUCquJ",
        "outputId": "665cc8c3-1fd6-4e24-c16e-6b983ed94fd6"
      },
      "outputs": [
        {
          "output_type": "stream",
          "name": "stdout",
          "text": [
            "Drive already mounted at /content/gdrive; to attempt to forcibly remount, call drive.mount(\"/content/gdrive\", force_remount=True).\n",
            "/content/gdrive/My Drive/Tec/ColabAI/iris\n",
            "/content/gdrive/MyDrive/Tec/ColabAI/iris\n",
            "iris.data  iris.names\n"
          ]
        },
        {
          "output_type": "execute_result",
          "data": {
            "text/plain": [
              "     sepal length  sepal width  petal length  petal width            class\n",
              "149           5.9          3.0           5.1          1.8   Iris-virginica\n",
              "138           6.0          3.0           4.8          1.8   Iris-virginica\n",
              "142           5.8          2.7           5.1          1.9   Iris-virginica\n",
              "134           6.1          2.6           5.6          1.4   Iris-virginica\n",
              "65            6.7          3.1           4.4          1.4  Iris-versicolor"
            ],
            "text/html": [
              "\n",
              "  <div id=\"df-e6ba536e-a831-4a72-abab-c392259c647c\" class=\"colab-df-container\">\n",
              "    <div>\n",
              "<style scoped>\n",
              "    .dataframe tbody tr th:only-of-type {\n",
              "        vertical-align: middle;\n",
              "    }\n",
              "\n",
              "    .dataframe tbody tr th {\n",
              "        vertical-align: top;\n",
              "    }\n",
              "\n",
              "    .dataframe thead th {\n",
              "        text-align: right;\n",
              "    }\n",
              "</style>\n",
              "<table border=\"1\" class=\"dataframe\">\n",
              "  <thead>\n",
              "    <tr style=\"text-align: right;\">\n",
              "      <th></th>\n",
              "      <th>sepal length</th>\n",
              "      <th>sepal width</th>\n",
              "      <th>petal length</th>\n",
              "      <th>petal width</th>\n",
              "      <th>class</th>\n",
              "    </tr>\n",
              "  </thead>\n",
              "  <tbody>\n",
              "    <tr>\n",
              "      <th>149</th>\n",
              "      <td>5.9</td>\n",
              "      <td>3.0</td>\n",
              "      <td>5.1</td>\n",
              "      <td>1.8</td>\n",
              "      <td>Iris-virginica</td>\n",
              "    </tr>\n",
              "    <tr>\n",
              "      <th>138</th>\n",
              "      <td>6.0</td>\n",
              "      <td>3.0</td>\n",
              "      <td>4.8</td>\n",
              "      <td>1.8</td>\n",
              "      <td>Iris-virginica</td>\n",
              "    </tr>\n",
              "    <tr>\n",
              "      <th>142</th>\n",
              "      <td>5.8</td>\n",
              "      <td>2.7</td>\n",
              "      <td>5.1</td>\n",
              "      <td>1.9</td>\n",
              "      <td>Iris-virginica</td>\n",
              "    </tr>\n",
              "    <tr>\n",
              "      <th>134</th>\n",
              "      <td>6.1</td>\n",
              "      <td>2.6</td>\n",
              "      <td>5.6</td>\n",
              "      <td>1.4</td>\n",
              "      <td>Iris-virginica</td>\n",
              "    </tr>\n",
              "    <tr>\n",
              "      <th>65</th>\n",
              "      <td>6.7</td>\n",
              "      <td>3.1</td>\n",
              "      <td>4.4</td>\n",
              "      <td>1.4</td>\n",
              "      <td>Iris-versicolor</td>\n",
              "    </tr>\n",
              "  </tbody>\n",
              "</table>\n",
              "</div>\n",
              "    <div class=\"colab-df-buttons\">\n",
              "\n",
              "  <div class=\"colab-df-container\">\n",
              "    <button class=\"colab-df-convert\" onclick=\"convertToInteractive('df-e6ba536e-a831-4a72-abab-c392259c647c')\"\n",
              "            title=\"Convert this dataframe to an interactive table.\"\n",
              "            style=\"display:none;\">\n",
              "\n",
              "  <svg xmlns=\"http://www.w3.org/2000/svg\" height=\"24px\" viewBox=\"0 -960 960 960\">\n",
              "    <path d=\"M120-120v-720h720v720H120Zm60-500h600v-160H180v160Zm220 220h160v-160H400v160Zm0 220h160v-160H400v160ZM180-400h160v-160H180v160Zm440 0h160v-160H620v160ZM180-180h160v-160H180v160Zm440 0h160v-160H620v160Z\"/>\n",
              "  </svg>\n",
              "    </button>\n",
              "\n",
              "  <style>\n",
              "    .colab-df-container {\n",
              "      display:flex;\n",
              "      gap: 12px;\n",
              "    }\n",
              "\n",
              "    .colab-df-convert {\n",
              "      background-color: #E8F0FE;\n",
              "      border: none;\n",
              "      border-radius: 50%;\n",
              "      cursor: pointer;\n",
              "      display: none;\n",
              "      fill: #1967D2;\n",
              "      height: 32px;\n",
              "      padding: 0 0 0 0;\n",
              "      width: 32px;\n",
              "    }\n",
              "\n",
              "    .colab-df-convert:hover {\n",
              "      background-color: #E2EBFA;\n",
              "      box-shadow: 0px 1px 2px rgba(60, 64, 67, 0.3), 0px 1px 3px 1px rgba(60, 64, 67, 0.15);\n",
              "      fill: #174EA6;\n",
              "    }\n",
              "\n",
              "    .colab-df-buttons div {\n",
              "      margin-bottom: 4px;\n",
              "    }\n",
              "\n",
              "    [theme=dark] .colab-df-convert {\n",
              "      background-color: #3B4455;\n",
              "      fill: #D2E3FC;\n",
              "    }\n",
              "\n",
              "    [theme=dark] .colab-df-convert:hover {\n",
              "      background-color: #434B5C;\n",
              "      box-shadow: 0px 1px 3px 1px rgba(0, 0, 0, 0.15);\n",
              "      filter: drop-shadow(0px 1px 2px rgba(0, 0, 0, 0.3));\n",
              "      fill: #FFFFFF;\n",
              "    }\n",
              "  </style>\n",
              "\n",
              "    <script>\n",
              "      const buttonEl =\n",
              "        document.querySelector('#df-e6ba536e-a831-4a72-abab-c392259c647c button.colab-df-convert');\n",
              "      buttonEl.style.display =\n",
              "        google.colab.kernel.accessAllowed ? 'block' : 'none';\n",
              "\n",
              "      async function convertToInteractive(key) {\n",
              "        const element = document.querySelector('#df-e6ba536e-a831-4a72-abab-c392259c647c');\n",
              "        const dataTable =\n",
              "          await google.colab.kernel.invokeFunction('convertToInteractive',\n",
              "                                                    [key], {});\n",
              "        if (!dataTable) return;\n",
              "\n",
              "        const docLinkHtml = 'Like what you see? Visit the ' +\n",
              "          '<a target=\"_blank\" href=https://colab.research.google.com/notebooks/data_table.ipynb>data table notebook</a>'\n",
              "          + ' to learn more about interactive tables.';\n",
              "        element.innerHTML = '';\n",
              "        dataTable['output_type'] = 'display_data';\n",
              "        await google.colab.output.renderOutput(dataTable, element);\n",
              "        const docLink = document.createElement('div');\n",
              "        docLink.innerHTML = docLinkHtml;\n",
              "        element.appendChild(docLink);\n",
              "      }\n",
              "    </script>\n",
              "  </div>\n",
              "\n",
              "\n",
              "<div id=\"df-d8f12f98-450e-4fa9-9a50-495eb3e035ea\">\n",
              "  <button class=\"colab-df-quickchart\" onclick=\"quickchart('df-d8f12f98-450e-4fa9-9a50-495eb3e035ea')\"\n",
              "            title=\"Suggest charts.\"\n",
              "            style=\"display:none;\">\n",
              "\n",
              "<svg xmlns=\"http://www.w3.org/2000/svg\" height=\"24px\"viewBox=\"0 0 24 24\"\n",
              "     width=\"24px\">\n",
              "    <g>\n",
              "        <path d=\"M19 3H5c-1.1 0-2 .9-2 2v14c0 1.1.9 2 2 2h14c1.1 0 2-.9 2-2V5c0-1.1-.9-2-2-2zM9 17H7v-7h2v7zm4 0h-2V7h2v10zm4 0h-2v-4h2v4z\"/>\n",
              "    </g>\n",
              "</svg>\n",
              "  </button>\n",
              "\n",
              "<style>\n",
              "  .colab-df-quickchart {\n",
              "      --bg-color: #E8F0FE;\n",
              "      --fill-color: #1967D2;\n",
              "      --hover-bg-color: #E2EBFA;\n",
              "      --hover-fill-color: #174EA6;\n",
              "      --disabled-fill-color: #AAA;\n",
              "      --disabled-bg-color: #DDD;\n",
              "  }\n",
              "\n",
              "  [theme=dark] .colab-df-quickchart {\n",
              "      --bg-color: #3B4455;\n",
              "      --fill-color: #D2E3FC;\n",
              "      --hover-bg-color: #434B5C;\n",
              "      --hover-fill-color: #FFFFFF;\n",
              "      --disabled-bg-color: #3B4455;\n",
              "      --disabled-fill-color: #666;\n",
              "  }\n",
              "\n",
              "  .colab-df-quickchart {\n",
              "    background-color: var(--bg-color);\n",
              "    border: none;\n",
              "    border-radius: 50%;\n",
              "    cursor: pointer;\n",
              "    display: none;\n",
              "    fill: var(--fill-color);\n",
              "    height: 32px;\n",
              "    padding: 0;\n",
              "    width: 32px;\n",
              "  }\n",
              "\n",
              "  .colab-df-quickchart:hover {\n",
              "    background-color: var(--hover-bg-color);\n",
              "    box-shadow: 0 1px 2px rgba(60, 64, 67, 0.3), 0 1px 3px 1px rgba(60, 64, 67, 0.15);\n",
              "    fill: var(--button-hover-fill-color);\n",
              "  }\n",
              "\n",
              "  .colab-df-quickchart-complete:disabled,\n",
              "  .colab-df-quickchart-complete:disabled:hover {\n",
              "    background-color: var(--disabled-bg-color);\n",
              "    fill: var(--disabled-fill-color);\n",
              "    box-shadow: none;\n",
              "  }\n",
              "\n",
              "  .colab-df-spinner {\n",
              "    border: 2px solid var(--fill-color);\n",
              "    border-color: transparent;\n",
              "    border-bottom-color: var(--fill-color);\n",
              "    animation:\n",
              "      spin 1s steps(1) infinite;\n",
              "  }\n",
              "\n",
              "  @keyframes spin {\n",
              "    0% {\n",
              "      border-color: transparent;\n",
              "      border-bottom-color: var(--fill-color);\n",
              "      border-left-color: var(--fill-color);\n",
              "    }\n",
              "    20% {\n",
              "      border-color: transparent;\n",
              "      border-left-color: var(--fill-color);\n",
              "      border-top-color: var(--fill-color);\n",
              "    }\n",
              "    30% {\n",
              "      border-color: transparent;\n",
              "      border-left-color: var(--fill-color);\n",
              "      border-top-color: var(--fill-color);\n",
              "      border-right-color: var(--fill-color);\n",
              "    }\n",
              "    40% {\n",
              "      border-color: transparent;\n",
              "      border-right-color: var(--fill-color);\n",
              "      border-top-color: var(--fill-color);\n",
              "    }\n",
              "    60% {\n",
              "      border-color: transparent;\n",
              "      border-right-color: var(--fill-color);\n",
              "    }\n",
              "    80% {\n",
              "      border-color: transparent;\n",
              "      border-right-color: var(--fill-color);\n",
              "      border-bottom-color: var(--fill-color);\n",
              "    }\n",
              "    90% {\n",
              "      border-color: transparent;\n",
              "      border-bottom-color: var(--fill-color);\n",
              "    }\n",
              "  }\n",
              "</style>\n",
              "\n",
              "  <script>\n",
              "    async function quickchart(key) {\n",
              "      const quickchartButtonEl =\n",
              "        document.querySelector('#' + key + ' button');\n",
              "      quickchartButtonEl.disabled = true;  // To prevent multiple clicks.\n",
              "      quickchartButtonEl.classList.add('colab-df-spinner');\n",
              "      try {\n",
              "        const charts = await google.colab.kernel.invokeFunction(\n",
              "            'suggestCharts', [key], {});\n",
              "      } catch (error) {\n",
              "        console.error('Error during call to suggestCharts:', error);\n",
              "      }\n",
              "      quickchartButtonEl.classList.remove('colab-df-spinner');\n",
              "      quickchartButtonEl.classList.add('colab-df-quickchart-complete');\n",
              "    }\n",
              "    (() => {\n",
              "      let quickchartButtonEl =\n",
              "        document.querySelector('#df-d8f12f98-450e-4fa9-9a50-495eb3e035ea button');\n",
              "      quickchartButtonEl.style.display =\n",
              "        google.colab.kernel.accessAllowed ? 'block' : 'none';\n",
              "    })();\n",
              "  </script>\n",
              "</div>\n",
              "    </div>\n",
              "  </div>\n"
            ]
          },
          "metadata": {},
          "execution_count": 74
        }
      ],
      "source": [
        "#Cargamos los archivos\n",
        "from google.colab import drive  # importa libreria\n",
        "drive.mount(\"/content/gdrive\")  # utiliza comando\n",
        "\n",
        "!pwd\n",
        "\n",
        "#put your own path in google drive\n",
        "%cd '/content/gdrive/MyDrive/Tec/ColabAI/iris/'\n",
        "!ls\n",
        "\n",
        "import pandas as pd # importar libreria\n",
        "\n",
        "columns = [\"sepal length\",\"sepal width\",\"petal length\",\"petal width\", \"class\"] # definir nombres de columna manualmente\n",
        "df = pd.read_csv('iris.data', names=columns) # abrir el archivo de datos con los nombres dados para las columnas\n",
        "df = df.sample(frac = 1) #Desordenamos los datos porque vienen por clase\n",
        "df.head() # mostrar las primeras líneas del dataset que se cargó"
      ]
    },
    {
      "cell_type": "code",
      "source": [
        "from sklearn.model_selection import train_test_split #importamos la funcion para hacer split de los datos\n",
        "\n",
        "#dividimos en la variable dependiente y las independientes\n",
        "X = df.drop(\"class\", axis=1)\n",
        "y = df[\"class\"]"
      ],
      "metadata": {
        "colab": {
          "base_uri": "https://localhost:8080/"
        },
        "id": "JtsmkX5lDlco",
        "outputId": "ff6c7a8f-1c16-4e1c-f276-7b53eb086fee"
      },
      "execution_count": null,
      "outputs": [
        {
          "output_type": "execute_result",
          "data": {
            "text/plain": [
              "((15, 4), (67, 4), (68, 4))"
            ]
          },
          "metadata": {},
          "execution_count": 75
        }
      ]
    },
    {
      "cell_type": "markdown",
      "source": [
        "## **Creación de los modelos**"
      ],
      "metadata": {
        "id": "ZEBVeFvxDqhU"
      }
    },
    {
      "cell_type": "markdown",
      "source": [
        "Para la actividad se usará un arbol de decisión, ya que estamos tratando de clasificar los datos de las iris. El modelo tendrá una desición de entropía como lo hicimos en la clase y una profundidad máxima de tres, ya que es un árbol que no será muy grande.\n",
        "\n",
        "A continuación se muestra ese modelo y lo vamos a entrenar con diferentes cantidades de datos. El set de datos ira del 5% al 40%."
      ],
      "metadata": {
        "id": "0Pry10EHDtS4"
      }
    },
    {
      "cell_type": "code",
      "source": [
        "from sklearn.tree import DecisionTreeClassifier\n",
        "from sklearn.metrics import classification_report\n",
        "\n",
        "# Creamos el objeto de DecisionTreeClassifier\n",
        "\n",
        "trainAcc = []\n",
        "valAcc = []\n",
        "myTree = DecisionTreeClassifier(criterion=\"entropy\", max_depth=3, splitter=\"best\")\n",
        "\n",
        "# Entrenamos el modelo con los datos\n",
        "for i in range(60,95,1):\n",
        "  X_train, X_test, y_train, y_test = train_test_split(X, y, test_size=i/100, random_state=42)\n",
        "  X_val, X_test, y_val, y_test = train_test_split(X_test, y_test, test_size=0.5, random_state=42)\n",
        "  myTree.fit(X_train, y_train)\n",
        "\n",
        "  y_pred = myTree.predict(X_train)\n",
        "  report = classification_report(y_train, y_pred, output_dict=True)\n",
        "  #print(report)\n",
        "  trainAcc.append(report['weighted avg']['precision'])\n",
        "\n",
        "  y_pred = myTree.predict(X_val)\n",
        "  report = classification_report(y_val, y_pred, output_dict=True)\n",
        "  valAcc.append(report['weighted avg']['precision'])"
      ],
      "metadata": {
        "id": "SOvPV6n_tJ9y"
      },
      "execution_count": null,
      "outputs": []
    },
    {
      "cell_type": "markdown",
      "source": [
        "Después de realizar el entrenamiento de los modelos y haber guardado la precisión del set de entrenamiento y de validación podemos ver la siguiente gráfica. Es importante mencionar que cada vez que se corre el código se ve un comportamiento similar pero es algo variable. Esto se debe a que el árbol tratará de hacer overfitting a los datos que reciba, por lo tanto los resultados varian mucho conforme a como se separen los datos en cada iteración."
      ],
      "metadata": {
        "id": "rqiehD8X4FEY"
      }
    },
    {
      "cell_type": "code",
      "source": [
        "import matplotlib.pyplot as plt\n",
        "\n",
        "# Listas de valores\n",
        "x_values = list(range(40, 5, -1))\n",
        "y_train = trainAcc\n",
        "y_val = valAcc\n",
        "\n",
        "# Crear el gráfico\n",
        "plt.figure(figsize=(10, 6))\n",
        "plt.plot(x_values, y_train, marker='o', label='Training Accuracy')\n",
        "plt.plot(x_values, y_val, marker='x', label='Validation Accuracy')\n",
        "\n",
        "# Etiquetas y título\n",
        "plt.xlabel('Porcentaje de datos de entrenamiento')\n",
        "plt.ylabel('Accuracy')\n",
        "plt.title('Accuracy vs Porcentaje de datos de entrenamiento')\n",
        "\n",
        "# Leyenda\n",
        "plt.legend()\n",
        "\n",
        "# Mostrar el gráfico\n",
        "plt.grid(True)\n",
        "plt.show()\n"
      ],
      "metadata": {
        "colab": {
          "base_uri": "https://localhost:8080/",
          "height": 564
        },
        "id": "7E0imYWgwFxV",
        "outputId": "c02487e2-b034-478b-8c57-1f8cd7cc825c"
      },
      "execution_count": null,
      "outputs": [
        {
          "output_type": "display_data",
          "data": {
            "text/plain": [
              "<Figure size 1000x600 with 1 Axes>"
            ],
            "image/png": "[encoded data removed]"
          },
          "metadata": {}
        }
      ]
    },
    {
      "cell_type": "markdown",
      "source": [
        "De esta gráfica podemos interpretar varias cosas. Al inicio, cuando entrenamos con muy pocos datos el modelo tiene **mucho overfitting**, por lo tanto tiene un error muy bajo en el set de entrnamiento, pero no sabe generalizar y falla mucho en el subset de validación. Aquí podemos ver un **sesgo (bias) alto**, ya que parece que como no generaliza, detecta muy bien algunas clases y otras no.\n",
        "\n",
        "Conforme avanzamos en la gráfica estos resultados se estabilizan, el subset de entrenamiento ya no parece estar memorizando porque falla, pero su error es pequeño y con el subset de validación ya estamos obteniendo también poco error. Aproximadamente entre el 32% y 37% de datos de entrenamiento, tenemos un 95% de precisión. Esto ya es suficiente para la aplicación que estamos haciendo y **el modelo se ajusta bien a los datos**. A primera vista se puede decir que el modelo tiene un **sesgo bajo**, ya que en general identifica bien todas las categorías. Debido a que los datos están gráficados con respecto a accuracy, no podemos confirmar que la **varianza sea baja**, aunque es lo más probable. De todas formas esto lo afirmaremos más adelante cuando probemos el modelo refinado."
      ],
      "metadata": {
        "id": "5MSxYW3j4e0g"
      }
    },
    {
      "cell_type": "markdown",
      "source": [
        "Podemos ver que en su mayoría, el modelo reconoce perfectamente la clase de Iris Setosa, ya que en etodas las variaciones solamente la clasificó incorrectamente una vez.\n",
        "\n",
        "Por otro lado, parece que confunde bastante seguido las clases de iris versicolor y de iris virginica. Sobre estas categorías podemos verificar si tiene algun sesgo o varianza analizando el recall.\n",
        "\n",
        "Usamos esta metrica ya que nos permite saber cuantas veces una clase tuvo una prediccion correcta (verdaderos positivos)."
      ],
      "metadata": {
        "id": "xpqu8vKxI12y"
      }
    },
    {
      "cell_type": "markdown",
      "source": [
        "## **Modelo refinado**"
      ],
      "metadata": {
        "id": "iHZV8gv7JdFT"
      }
    },
    {
      "cell_type": "markdown",
      "source": [
        "Ahora nos quedaremos con el modelo que tuvo un mejor desempeño. A continuación se imprimen reportes para el set de entrenamiento, de validación y de testing para verificar el bias y la varianza."
      ],
      "metadata": {
        "id": "k6Ejrc8P_1dC"
      }
    },
    {
      "cell_type": "code",
      "source": [
        "myTree = DecisionTreeClassifier(criterion=\"entropy\", max_depth=3, splitter=\"best\")\n",
        "\n",
        "X_train, X_test, y_train, y_test = train_test_split(X, y, test_size=0.37, random_state=42)\n",
        "X_val, X_test, y_val, y_test = train_test_split(X_test, y_test, test_size=0.5, random_state=42)\n",
        "myTree.fit(X_train, y_train)\n",
        "\n",
        "y_pred = myTree.predict(X_train)\n",
        "report = classification_report(y_train, y_pred)\n",
        "print(\"Reporte de entrenamiento\")\n",
        "print(report)\n",
        "print(\"\")\n",
        "\n",
        "y_pred = myTree.predict(X_val)\n",
        "report = classification_report(y_val, y_pred)\n",
        "print(\"Reporte de validacion\")\n",
        "print(report)\n",
        "print(\"\")\n",
        "\n",
        "y_pred = myTree.predict(X_test)\n",
        "report = classification_report(y_test, y_pred)\n",
        "print(\"Reporte de testing\")\n",
        "print(report)\n",
        "print(\"\")"
      ],
      "metadata": {
        "colab": {
          "base_uri": "https://localhost:8080/"
        },
        "id": "YOZmvyIZ-gTP",
        "outputId": "1babc84f-696d-4e07-e908-f070a8b9fc73"
      },
      "execution_count": null,
      "outputs": [
        {
          "output_type": "stream",
          "name": "stdout",
          "text": [
            "Reporte de entrenamiento\n",
            "                 precision    recall  f1-score   support\n",
            "\n",
            "    Iris-setosa       1.00      1.00      1.00        25\n",
            "Iris-versicolor       1.00      0.97      0.99        34\n",
            " Iris-virginica       0.97      1.00      0.99        35\n",
            "\n",
            "       accuracy                           0.99        94\n",
            "      macro avg       0.99      0.99      0.99        94\n",
            "   weighted avg       0.99      0.99      0.99        94\n",
            "\n",
            "\n",
            "Reporte de validacion\n",
            "                 precision    recall  f1-score   support\n",
            "\n",
            "    Iris-setosa       1.00      1.00      1.00        13\n",
            "Iris-versicolor       1.00      0.78      0.88         9\n",
            " Iris-virginica       0.75      1.00      0.86         6\n",
            "\n",
            "       accuracy                           0.93        28\n",
            "      macro avg       0.92      0.93      0.91        28\n",
            "   weighted avg       0.95      0.93      0.93        28\n",
            "\n",
            "\n",
            "Reporte de testing\n",
            "                 precision    recall  f1-score   support\n",
            "\n",
            "    Iris-setosa       1.00      1.00      1.00        12\n",
            "Iris-versicolor       1.00      1.00      1.00         7\n",
            " Iris-virginica       1.00      1.00      1.00         9\n",
            "\n",
            "       accuracy                           1.00        28\n",
            "      macro avg       1.00      1.00      1.00        28\n",
            "   weighted avg       1.00      1.00      1.00        28\n",
            "\n",
            "\n"
          ]
        }
      ]
    },
    {
      "cell_type": "markdown",
      "source": [
        "Arriba habiamos determinado que el modelo no sufria ni de overfitting ni de underfitting y con estos datos confirmamos que el **modelo se ajusta bien a los datos**.\n",
        "\n",
        "Además, el sesgo no es tan alto, pero vemos que falla bastante en la precisión de la detección de la tercer categoría (Iris-virginica). Por otro lado, para la Iris-versicolor tiene un recall significativamente más bajo, por lo que tiene a clasificarla incorrectamente (a las iris-versicolor reales les está dando otra etiqueta). Por esto podemos decir que el modelo tiene un **sesgo medio** ya que predice muy bien dos variables pero la tercera puede fallar en bastantes casos.\n",
        "\n",
        "Por último, el modelo tiene una **varianza baja**, ya que sabe predecir correctamente casi todas las muestras, aunque el modelo todavis tiene pequeños errores al clasificar."
      ],
      "metadata": {
        "id": "uSMYn7bN_xuG"
      }
    }
  ]
}